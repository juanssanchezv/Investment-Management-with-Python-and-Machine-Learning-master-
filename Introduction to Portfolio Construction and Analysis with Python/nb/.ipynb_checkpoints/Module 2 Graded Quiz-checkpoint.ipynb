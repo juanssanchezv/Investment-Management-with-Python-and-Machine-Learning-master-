{
 "cells": [
  {
   "cell_type": "markdown",
   "metadata": {},
   "source": [
    "# Module 2 Graded Quiz"
   ]
  },
  {
   "cell_type": "markdown",
   "metadata": {},
   "source": [
    "1. Use the EDHEC Hedge Fund Indices data set that we used in the lab assignment as well as in the previous week’s assignments. Load them into Python and perform the following analysis based on data since 2000 (including all of 2000): What was the Monthly Parametric Gaussian VaR at the 1% level (as a +ve number) of the Distressed Securities strategy?"
   ]
  },
  {
   "cell_type": "code",
   "execution_count": 1,
   "metadata": {},
   "outputs": [],
   "source": [
    "import pandas as pd\n",
    "import numpy as np\n",
    "import edhec_risk_kit_111 as erk\n",
    "%load_ext autoreload\n",
    "%autoreload 2\n",
    "%matplotlib inline"
   ]
  },
  {
   "cell_type": "code",
   "execution_count": 2,
   "metadata": {},
   "outputs": [
    {
     "data": {
      "text/plain": [
       "Distressed Securities    0.03143\n",
       "dtype: float64"
      ]
     },
     "execution_count": 2,
     "metadata": {},
     "output_type": "execute_result"
    }
   ],
   "source": [
    "#Load dataset\n",
    "hfi = erk.get_hfi_returns()\n",
    "#Calculate Gaussian VaR at 1%\n",
    "erk.var_gaussian(hfi['2000':], level = 1).take([2])"
   ]
  },
  {
   "cell_type": "markdown",
   "metadata": {},
   "source": [
    "2. Use the same data set at the previous question. What was the 1% VaR for the same strategy after applying the Cornish-Fisher Adjustment?"
   ]
  },
  {
   "cell_type": "code",
   "execution_count": 3,
   "metadata": {},
   "outputs": [
    {
     "data": {
      "text/plain": [
       "Distressed Securities    0.049669\n",
       "dtype: float64"
      ]
     },
     "execution_count": 3,
     "metadata": {},
     "output_type": "execute_result"
    }
   ],
   "source": [
    "#Calculate Gaussian VaR modified with Cornish-Fischer at 1%\n",
    "erk.var_gaussian(hfi['2000':], level = 1, modified=True).take([2])"
   ]
  },
  {
   "cell_type": "markdown",
   "metadata": {},
   "source": [
    "3. Use the same dataset as the previous question. What was the Monthly Historic VaR at the 1% level (as a +ve number) of the Distressed Securities strategy?"
   ]
  },
  {
   "cell_type": "code",
   "execution_count": 4,
   "metadata": {},
   "outputs": [
    {
     "data": {
      "text/plain": [
       "Distressed Securities    0.042642\n",
       "dtype: float64"
      ]
     },
     "execution_count": 4,
     "metadata": {},
     "output_type": "execute_result"
    }
   ],
   "source": [
    "erk.var_historic(hfi['2000':], level=1).take([2])"
   ]
  },
  {
   "cell_type": "markdown",
   "metadata": {},
   "source": [
    "4. Next, load the 30 industry return data using the erk.get_ind_returns() function that we developed during the lab sessions. For purposes of the remaining questions, use data during the 5 year period 2013-2017 (both inclusive) to estimate the expected returns as well as the covariance matrix. To be able to respond to the questions, you will need to build the MSR, EW and GMV portfolios consisting of the “Books”, “Steel”, \"Oil\", and \"Mines\" industries. Assume the risk free rate over the 5 year period is 10%.\n",
    "What is the weight of Steel in the EW Portfolio?"
   ]
  },
  {
   "cell_type": "code",
   "execution_count": 5,
   "metadata": {},
   "outputs": [
    {
     "name": "stdout",
     "output_type": "stream",
     "text": [
      "In a EW all parts of the portfolio weights the same since the portfolio consists of 4, Steel weights 0.25\n"
     ]
    }
   ],
   "source": [
    "#Prepare data\n",
    "ind = erk.get_ind_returns()\n",
    "er = erk.annualize_rets(ind[\"2013\":\"2017\"], 12)\n",
    "cov = ind[\"2013\":\"2017\"].cov()\n",
    "ew = np.repeat(0.25, 4)\n",
    "print('In a EW all parts of the portfolio weights the same since the portfolio consists of 4, Steel weights 0.25')"
   ]
  },
  {
   "cell_type": "markdown",
   "metadata": {},
   "source": [
    "5. What is the weight of the largest component of the MSR portfolio?"
   ]
  },
  {
   "cell_type": "code",
   "execution_count": 6,
   "metadata": {},
   "outputs": [
    {
     "name": "stdout",
     "output_type": "stream",
     "text": [
      "0.056894763673734625 0.04631532064083389\n"
     ]
    },
    {
     "data": {
      "text/plain": [
       "<matplotlib.axes._subplots.AxesSubplot at 0x1b4eed24d08>"
      ]
     },
     "execution_count": 6,
     "metadata": {},
     "output_type": "execute_result"
    },
    {
     "data": {
      "image/png": "[encoded data removed]",
      "text/plain": [
       "<Figure size 432x288 with 1 Axes>"
      ]
     },
     "metadata": {
      "needs_background": "light"
     },
     "output_type": "display_data"
    }
   ],
   "source": [
    "#Make portfolio\n",
    "l = ['Books', 'Steel', 'Oil', 'Mines']\n",
    "er[l]\n",
    "cov.loc[l, l]\n",
    "erk.plot_ef(25, er[l], cov.loc[l, l], show_cml=True, riskfree_rate=0.1, show_ew=True, show_gmv=True)"
   ]
  },
  {
   "cell_type": "code",
   "execution_count": 7,
   "metadata": {},
   "outputs": [
    {
     "name": "stdout",
     "output_type": "stream",
     "text": [
      "Steel: 1.0\n"
     ]
    }
   ],
   "source": [
    "#Make Maximum Sharpe Ratio Portfolio\n",
    "w_msr = erk.msr(0.1, er[l], cov.loc[l,l])\n",
    "r_msr = erk.portfolio_return(w_msr, er[l])\n",
    "vol_msr = erk.portfolio_vol(w_msr, cov.loc[l,l])\n",
    "print(l[1]+': '+str(w_msr[1]))"
   ]
  },
  {
   "cell_type": "markdown",
   "metadata": {},
   "source": [
    "6. Which of the 4 components has the largest weight in the MSR portfolio?"
   ]
  },
  {
   "cell_type": "code",
   "execution_count": 8,
   "metadata": {},
   "outputs": [
    {
     "name": "stdout",
     "output_type": "stream",
     "text": [
      "Maximum Sharpe Ratio Portfolio weights\n",
      "Books: 0.0\n",
      "Steel: 1.0\n",
      "Oil: 0.0\n",
      "Mines: 3.885780586188048e-16\n"
     ]
    }
   ],
   "source": [
    "print('Maximum Sharpe Ratio Portfolio weights')\n",
    "for i in range(4):\n",
    "    print(l[i]+': '+str(w_msr[i]))"
   ]
  },
  {
   "cell_type": "markdown",
   "metadata": {},
   "source": [
    "7. How many of the components of the MSR portfolio have non-zero weights?"
   ]
  },
  {
   "cell_type": "code",
   "execution_count": 9,
   "metadata": {},
   "outputs": [
    {
     "name": "stdout",
     "output_type": "stream",
     "text": [
      "Does it have non-zero weight?\n",
      "Books: no\n",
      "Steel: yes\n",
      "Oil: no\n",
      "Mines: yes\n"
     ]
    }
   ],
   "source": [
    "print('Does it have non-zero weight?')\n",
    "for i in range(4):\n",
    "    if w_msr[i]>0:\n",
    "        rta='yes'\n",
    "    else:\n",
    "        rta='no'\n",
    "    print(l[i]+': '+rta)"
   ]
  },
  {
   "cell_type": "markdown",
   "metadata": {},
   "source": [
    "8. What is the weight of the largest component of the GMV portfolio?\n",
    "9. Which of the 4 components has the largest weight in the GMV portfolio?"
   ]
  },
  {
   "cell_type": "code",
   "execution_count": 10,
   "metadata": {},
   "outputs": [
    {
     "name": "stdout",
     "output_type": "stream",
     "text": [
      "GMV Portfolio weights\n",
      "Books: 0.4770248819774167\n",
      "Steel: 0.0\n",
      "Oil: 0.4341120072099913\n",
      "Mines: 0.08886311081259204\n"
     ]
    }
   ],
   "source": [
    "#Make GMV Portfolio\n",
    "w_gmv = erk.gmv(cov.loc[l, l])\n",
    "r_gmv = erk.portfolio_return(w_gmv, er[l])\n",
    "vol_gmv = erk.portfolio_vol(w_gmv, cov.loc[l, l])\n",
    "print('GMV Portfolio weights')\n",
    "for i in range(len(er[l])):\n",
    "    print(l[i]+': '+str(w_gmv[i]))\n"
   ]
  },
  {
   "cell_type": "markdown",
   "metadata": {},
   "source": [
    "10. How many of the components of the GMV portfolio have non-zero weights?"
   ]
  },
  {
   "cell_type": "code",
   "execution_count": 11,
   "metadata": {},
   "outputs": [
    {
     "name": "stdout",
     "output_type": "stream",
     "text": [
      "Does it have non-zero weight?\n",
      "Books: yes\n",
      "Steel: no\n",
      "Oil: yes\n",
      "Mines: yes\n"
     ]
    }
   ],
   "source": [
    "print('Does it have non-zero weight?')\n",
    "for i in range(4):\n",
    "    if w_gmv[i]>0:\n",
    "        rta='yes'\n",
    "    else:\n",
    "        rta='no'\n",
    "    print(l[i]+': '+rta)"
   ]
  },
  {
   "cell_type": "markdown",
   "metadata": {},
   "source": [
    "11. Assume two different investors invested in the GMV and MSR portfolios at the start of 2018 using the weights we just computed. Compute the annualized volatility of these two portfolios over the next 12 months of 2018? (Hint: Use the portfolio_vol code we developed in the lab and use ind[“2018”][l].cov() to compute the covariance matrix for 2018, assuming that the variable ind holds the industry returns and the variable l holds the list of industry portfolios you are willing to hold. Don’t forget to annualize the volatility)\n",
    "What would be the annualized volatility over 2018 using the weights of the MSR portfolio?"
   ]
  },
  {
   "cell_type": "code",
   "execution_count": 12,
   "metadata": {},
   "outputs": [
    {
     "name": "stdout",
     "output_type": "stream",
     "text": [
      "MRS Volatility: 0.06346230747220724\n",
      "Annualized volatility MSR: 21.983988181484186\n"
     ]
    }
   ],
   "source": [
    "#Get the data of 2018\n",
    "ind = erk.get_ind_returns()\n",
    "er2018 = erk.annualize_rets(ind['2018'], 12)\n",
    "cov2018 = ind['2018'].cov()\n",
    "\n",
    "#Get volatility of MSR Portfolio using weights of previous exercise\n",
    "vol_msr2018 = erk.portfolio_vol(w_msr, cov2018.loc[l,l])\n",
    "print('MRS Volatility: {}'.format(vol_msr2018))\n",
    "#Calculate the annualized volatility of MSR portfolio\n",
    "MSR_ann_vol = vol_msr2018*(12**0.5)\n",
    "print('Annualized volatility MSR: {}'.format(MSR_ann_vol*100))"
   ]
  },
  {
   "cell_type": "markdown",
   "metadata": {},
   "source": [
    "12. What would be the annualized volatility over 2018 using the weights of the GMV portfolio? (Reminder and Hint: Use the portfolio_vol code we developed in the lab and use ind[“2018”][l].cov() to compute the covariance matrix for 2018, assuming that the variable ind holds the industry returns and the variable l holds the list of industry portfolios you are willing to hold. Don’t forget to annualize the volatility)"
   ]
  },
  {
   "cell_type": "code",
   "execution_count": 13,
   "metadata": {},
   "outputs": [
    {
     "name": "stdout",
     "output_type": "stream",
     "text": [
      "GMV Volatility: 0.05477245321399671\n",
      "Annualized volatility GMV: 18.973734364366308\n"
     ]
    }
   ],
   "source": [
    "#Get volatility of GMV Portfolio using weights of previous exercise\n",
    "vol_gmv2018 = erk.portfolio_vol(w_gmv, cov2018.loc[l, l])\n",
    "print('GMV Volatility: {}'.format(vol_gmv2018))\n",
    "#Calculate the annualized volatility of GMV portfolio\n",
    "GMV_ann_vol = vol_gmv2018*(12**0.5)\n",
    "print('Annualized volatility GMV: {}'.format(GMV_ann_vol*100))"
   ]
  },
  {
   "cell_type": "code",
   "execution_count": null,
   "metadata": {},
   "outputs": [],
   "source": []
  }
 ],
 "metadata": {
  "kernelspec": {
   "display_name": "Python 3",
   "language": "python",
   "name": "python3"
  },
  "language_info": {
   "codemirror_mode": {
    "name": "ipython",
    "version": 3
   },
   "file_extension": ".py",
   "mimetype": "text/x-python",
   "name": "python",
   "nbconvert_exporter": "python",
   "pygments_lexer": "ipython3",
   "version": "3.7.6"
  }
 },
 "nbformat": 4,
 "nbformat_minor": 4
}
