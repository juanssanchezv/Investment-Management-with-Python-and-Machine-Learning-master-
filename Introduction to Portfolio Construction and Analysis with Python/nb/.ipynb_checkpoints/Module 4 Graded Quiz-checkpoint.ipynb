{
 "cells": [
  {
   "cell_type": "code",
   "execution_count": 1,
   "metadata": {},
   "outputs": [],
   "source": [
    "import pandas as pd\n",
    "import edhec_risk_kit_129 as erk"
   ]
  },
  {
   "cell_type": "markdown",
   "metadata": {},
   "source": [
    "1. In the following questions, we will be working with three bonds:\n",
    "\n",
    "B1 is a 15 Year Bond with a Face Value of \\\\$1000 that pays a 5% coupon semi-annually (2 times a year)\n",
    "B2 is a 5 Year Bond with a Face value of \\\\$1000 that pays a 6% coupon quarterly (4 times a year)\n",
    "B3 is a 10 Year Zero-Coupon Bond with a Face Value of \\\\$1000 (Hint: you can still use the erk.bond_cash_flows() and erk.bond_price() by setting the coupon amount to 0% and coupons_per_year to 1) Assume the yield curve is flat at 5%. Duration refers to Macaulay Duration\n",
    "Hint: the macaulay_duration function gives as output the duration expressed in periods and not in years. If you want to get the yearly duration you need to divide the duration for coupons_per_year;\n",
    "\n",
    "e.g.: duarion_B2 = erk.macaulay_duration(flows_B2, 0.05/4)/4\n",
    "\n",
    "Which of the three bonds is the most expensive?\n",
    "\n",
    "B3 --> O\n",
    "\n",
    "B2 --> X\n",
    "\n",
    "B1 --> O"
   ]
  },
  {
   "cell_type": "code",
   "execution_count": 2,
   "metadata": {},
   "outputs": [
    {
     "name": "stdout",
     "output_type": "stream",
     "text": [
      "Price of Bond 1: 1000.0\n",
      "Price of Bond 2: 1044.0\n",
      "Price of Bond 3: 613.91\n"
     ]
    }
   ],
   "source": [
    "B1 = erk.bond_price(maturity=15, principal=1000,coupon_rate=0.05, coupons_per_year=2,discount_rate=0.05)\n",
    "B2 = erk.bond_price(maturity=5, principal=1000,coupon_rate=0.06, coupons_per_year=4,discount_rate=0.05)\n",
    "B3 = erk.bond_price(maturity=10, principal=1000,coupon_rate=0, coupons_per_year=1,discount_rate=0.05)\n",
    "print('Price of Bond 1: {}'.format(B1.values[0].round(2)))\n",
    "print('Price of Bond 2: {}'.format(B2.values[0].round(2)))\n",
    "print('Price of Bond 3: {}'.format(B3.values[0].round(2)))"
   ]
  },
  {
   "cell_type": "markdown",
   "metadata": {},
   "source": [
    "2. Which of the three bonds is the least expensive?\n",
    "\n",
    "B1 --> O\n",
    "\n",
    "B2 --> O\n",
    "\n",
    "B3 --> X"
   ]
  },
  {
   "cell_type": "markdown",
   "metadata": {},
   "source": [
    "3. What is the price of the 10 Year Zero Coupon Bond B3?\n",
    "Enter the answer rounded to the nearest Dollar. e.g. if you compute the price as \\\\$45.35, enter the number 45."
   ]
  },
  {
   "cell_type": "code",
   "execution_count": 3,
   "metadata": {},
   "outputs": [
    {
     "name": "stdout",
     "output_type": "stream",
     "text": [
      "The price of Bond 3 is: 614.0\n"
     ]
    }
   ],
   "source": [
    "print('The price of Bond 3 is: {}'.format(B3.values[0].round(0)))"
   ]
  },
  {
   "cell_type": "markdown",
   "metadata": {},
   "source": [
    "4. Which of the three bonds has the highest (Macaulay) Duration?\n",
    "\n",
    "B1 --> X\n",
    "\n",
    "B3 --> O\n",
    "\n",
    "B2 --> O"
   ]
  },
  {
   "cell_type": "code",
   "execution_count": 4,
   "metadata": {},
   "outputs": [
    {
     "name": "stdout",
     "output_type": "stream",
     "text": [
      "Macaulay Duration of Bond 1: 10.73\n",
      "Macaulay Duration of Bond 2: 4.37\n",
      "Macaulay Duration of Bond 3: 10.0\n"
     ]
    }
   ],
   "source": [
    "B1_CF = erk.bond_cash_flows(maturity=15, principal=1000, coupon_rate=0.05, coupons_per_year=2)\n",
    "B2_CF = erk.bond_cash_flows(maturity=5, principal=1000, coupon_rate=0.06, coupons_per_year=4)\n",
    "B3_CF = erk.bond_cash_flows(maturity=10, principal=1000, coupon_rate=0, coupons_per_year=1)\n",
    "\n",
    "B1_MD = erk.macaulay_duration(B1_CF, discount_rate=0.05/2)/2\n",
    "B2_MD = erk.macaulay_duration(B2_CF, discount_rate=0.05/4)/4\n",
    "B3_MD = erk.macaulay_duration(B3_CF, discount_rate=0.05)/1\n",
    "\n",
    "print('Macaulay Duration of Bond 1: {}'.format(B1_MD.round(2)))\n",
    "print('Macaulay Duration of Bond 2: {}'.format(B2_MD.round(2)))\n",
    "print('Macaulay Duration of Bond 3: {}'.format(B3_MD.round(2)))"
   ]
  },
  {
   "cell_type": "markdown",
   "metadata": {},
   "source": [
    "5. Which of the three bonds has the lowest (Macaulay) Duration?\n",
    "\n",
    "B2 --> X\n",
    "\n",
    "B1 --> O\n",
    "\n",
    "B3 --> O"
   ]
  },
  {
   "cell_type": "markdown",
   "metadata": {},
   "source": [
    "6. What is the duration of the 5 year bond B2?\n",
    "Enter the answer as a number - e.g. for 5.43 years, enter 5.43."
   ]
  },
  {
   "cell_type": "code",
   "execution_count": 5,
   "metadata": {},
   "outputs": [
    {
     "name": "stdout",
     "output_type": "stream",
     "text": [
      "The Macaulay duration of Bond 2 is: 4.37\n"
     ]
    }
   ],
   "source": [
    "print('The Macaulay duration of Bond 2 is: {}'.format(B2_MD.round(2)))"
   ]
  },
  {
   "cell_type": "markdown",
   "metadata": {},
   "source": [
    "7. Assume a sequence of 3 liabilities of \\\\$100,000, \\\\$200,000 and \\\\$300,000 that are 3, 5 and 10 years away, respectively. What is the Duration of the liabilities?\n",
    "(Reminder: Assume the yield curve is flat at 5%. Duration refers to Macaulay Duration)\n",
    "\n",
    "Enter the answer as a number - e.g. for 5.43 years, enter 5.43."
   ]
  },
  {
   "cell_type": "code",
   "execution_count": 6,
   "metadata": {},
   "outputs": [
    {
     "name": "stdout",
     "output_type": "stream",
     "text": [
      "The duration of the liabilities is: 6.75\n"
     ]
    }
   ],
   "source": [
    "liabilities = pd.Series(data = [100000, 200000, 300000], index=[3, 5, 10])\n",
    "print('The duration of the liabilities is: {}'.format(erk.macaulay_duration(liabilities, discount_rate=.05).round(2)))"
   ]
  },
  {
   "cell_type": "markdown",
   "metadata": {},
   "source": [
    "8. Assuming the same set of liabilities as the previous question (i.e. a sequence of 3 liabilities of \\\\$100,000, \\\\$200,000 and \\\\$300,000 that are 3, 5 and 10 years away, respectively) build a Duration Matched Portfolio of B1 and B2 to match these liabilities. What is the weight of B2 in the portfolio? (Hint: the code we developed in class erk.match_durations() assumes that all the bonds have the same number of coupons per year. This is not the case here, so you will either need to enhance the code or compute the weight directly e.g. by entering the steps in a Jupyter Notebook Cell or at the Python Command Line)\n",
    "$$ w_{b_1} = \\frac{d_{b_2} -d_t}{d_{b_2} - d_{b_1}} $$\n",
    "\n",
    "Enter the weight as a percentage. For instance, if you compute the weight as 34.66%, enter 34.66."
   ]
  },
  {
   "cell_type": "code",
   "execution_count": 7,
   "metadata": {},
   "outputs": [
    {
     "name": "stdout",
     "output_type": "stream",
     "text": [
      "The weight of B2 in the portfolio is: 62.58%\n"
     ]
    }
   ],
   "source": [
    "L_MD = erk.macaulay_duration(liabilities, discount_rate=.05) # d_t\n",
    "B1_MD = erk.macaulay_duration(B1_CF, discount_rate=.05/2)/2 # d_b1\n",
    "B2_MD = erk.macaulay_duration(B2_CF, discount_rate=.05/4)/4 # d_b2\n",
    "# B1 + B2\n",
    "W_B1 = (B2_MD - L_MD) / (B2_MD - B1_MD) # w_b1\n",
    "W_B2 = 1 - W_B1 # w_b2\n",
    "print('The weight of B2 in the portfolio is: {}%'.format((W_B2*100).round(2)))"
   ]
  },
  {
   "cell_type": "markdown",
   "metadata": {},
   "source": [
    "9. Assume you can use any of the bonds B1, B2 and B3 to build a duration matched bond portfolio matched to the liabilities. Which combination of 2 bonds can you NOT use to build a duration matched bond portfolio?\n",
    "\n",
    "B2+B3  --> O\n",
    "\n",
    "B1+B2  --> O\n",
    "\n",
    "B1+B3  --> X\n",
    "\n",
    "ANY PAIR WILL WORK  --> O"
   ]
  },
  {
   "cell_type": "code",
   "execution_count": 8,
   "metadata": {},
   "outputs": [
    {
     "name": "stdout",
     "output_type": "stream",
     "text": [
      "-4.470547767656877 --> B1 + B3 is not feasible\n",
      "0.5774465770256697 --> B2 + B3 is feasible\n"
     ]
    }
   ],
   "source": [
    "B3_MD = erk.macaulay_duration(B3_CF, discount_rate=.05/1)/1 # d_b3\n",
    "# B1 + B3\n",
    "W_B1 = (B3_MD - L_MD) / (B3_MD - B1_MD) # w_b1\n",
    "W_B3 = 1 - W_B1 # w_b3\n",
    "print('{} --> B1 + B3 is not feasible'.format(W_B1))\n",
    "# B2 + B3\n",
    "W_B2 = (B3_MD - L_MD) / (B3_MD - B2_MD) # w_b1\n",
    "W_B3 = 1 - W_B1 # w_b3\n",
    "print('{} --> B2 + B3 is feasible'.format(W_B2))"
   ]
  },
  {
   "cell_type": "markdown",
   "metadata": {},
   "source": [
    "10. Assuming the same liabilities as the previous questions (i.e. a sequence of 3 liabilities of $100,000, $200,000 and $300,000 that are 3, 5 and 10 years away, respectively), build a Duration Matched Portfolio of B2 and B3 to match the liabilities.\n",
    "What is the weight of B2 in this portfolio?\n",
    "Enter the answer as a single number. For instance, if you compute the weight as 65.32% enter 65.32.\n"
   ]
  },
  {
   "cell_type": "code",
   "execution_count": 9,
   "metadata": {},
   "outputs": [
    {
     "name": "stdout",
     "output_type": "stream",
     "text": [
      "The weight of B2 in this portfolio is: 57.74%\n"
     ]
    }
   ],
   "source": [
    "print('The weight of B2 in this portfolio is: {}%'.format((W_B2*100).round(2)))"
   ]
  }
 ],
 "metadata": {
  "kernelspec": {
   "display_name": "Python 3",
   "language": "python",
   "name": "python3"
  },
  "language_info": {
   "codemirror_mode": {
    "name": "ipython",
    "version": 3
   },
   "file_extension": ".py",
   "mimetype": "text/x-python",
   "name": "python",
   "nbconvert_exporter": "python",
   "pygments_lexer": "ipython3",
   "version": "3.7.6"
  }
 },
 "nbformat": 4,
 "nbformat_minor": 4
}
