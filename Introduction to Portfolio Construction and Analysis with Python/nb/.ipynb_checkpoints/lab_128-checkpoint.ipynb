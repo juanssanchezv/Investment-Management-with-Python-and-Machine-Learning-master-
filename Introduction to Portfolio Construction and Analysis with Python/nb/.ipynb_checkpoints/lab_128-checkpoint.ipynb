{
 "cells": [
  {
   "cell_type": "markdown",
   "metadata": {},
   "source": [
    "# Naive Risk Budgeting Strategies between PSP and GHP\n",
    "\n",
    "We've already seen how we can compute the returns of a portfolio that mixes a PSP with a GHP. In this session we'll build some tools to put a more methodical structure around that process."
   ]
  },
  {
   "cell_type": "code",
   "execution_count": 1,
   "metadata": {},
   "outputs": [],
   "source": [
    "import numpy as np\n",
    "import pandas as pd\n",
    "import edhec_risk_kit_128 as erk\n",
    "%matplotlib inline\n",
    "%load_ext autoreload\n",
    "%autoreload 2"
   ]
  },
  {
   "cell_type": "markdown",
   "metadata": {},
   "source": [
    "```python\n",
    "def bt_mix(r1, r2, allocator, **kwargs): # kwargs = keyword arguments\n",
    "    \"\"\"\n",
    "    Runs a back test (simulation) of allocating between a two sets of returns\n",
    "    r1 and r2 are T x N DataFrames or returns where T is the time step index and N is the number of scenarios.\n",
    "    allocator is a function that takes two sets of returns and allocator specific parameters, and produces\n",
    "    an allocation to the first portfolio (the rest of the money is invested in the GHP) as a T x 1 DataFrame\n",
    "    Returns a T x N DataFrame of the resulting N portfolio scenarios\n",
    "    \"\"\"\n",
    "    if not r1.shape == r2.shape:\n",
    "        raise ValueError(\"r1 and r2 should have the same shape\")\n",
    "    weights = allocator(r1, r2, **kwargs)\n",
    "    if not weights.shape == r1.shape:\n",
    "        raise ValueError(\"Allocator returned weights with a different shape than the returns\")\n",
    "    r_mix = weights*r1 + (1-weights)*r2\n",
    "    return r_mix\n",
    "```"
   ]
  },
  {
   "cell_type": "markdown",
   "metadata": {},
   "source": [
    "## The Simplest Allocator - Fixed Mix\n",
    "\n",
    "The allocator's job is to come up with a time series of weights, so let's create the simplest possible allocator - one that puts a fixed fraction in the first portfolio and the remaining in the second\n"
   ]
  },
  {
   "cell_type": "markdown",
   "metadata": {},
   "source": [
    "```python\n",
    "def fixedmix_allocator(r1, r2, w1, **kwargs):\n",
    "    \"\"\"\n",
    "    Produces a time series over T steps of allocations between the PSP and GHP across N scenarios\n",
    "    PSP and GHP are T x N DataFrames that represent the returns of the PSP and GHP such that:\n",
    "     each column is a scenario\n",
    "     each row is the price for a timestep\n",
    "    Returns an T x N DataFrame of PSP Weights\n",
    "    \"\"\"\n",
    "    return pd.DataFrame(data = w1, index=r1.index, columns=r1.columns)\n",
    "```"
   ]
  },
  {
   "cell_type": "markdown",
   "metadata": {},
   "source": [
    "We are now ready to rerun the experiment we ran last time ... a bond portfolio of 60% in the 10 year bond and 40% in the 30 year bond to generate a fixed mix bond portfolio."
   ]
  },
  {
   "cell_type": "code",
   "execution_count": 2,
   "metadata": {},
   "outputs": [
    {
     "data": {
      "text/html": [
       "<div>\n",
       "<style scoped>\n",
       "    .dataframe tbody tr th:only-of-type {\n",
       "        vertical-align: middle;\n",
       "    }\n",
       "\n",
       "    .dataframe tbody tr th {\n",
       "        vertical-align: top;\n",
       "    }\n",
       "\n",
       "    .dataframe thead th {\n",
       "        text-align: right;\n",
       "    }\n",
       "</style>\n",
       "<table border=\"1\" class=\"dataframe\">\n",
       "  <thead>\n",
       "    <tr style=\"text-align: right;\">\n",
       "      <th></th>\n",
       "      <th>Annualized Return</th>\n",
       "      <th>Annualized Vol</th>\n",
       "      <th>Skewness</th>\n",
       "      <th>Kurtosis</th>\n",
       "      <th>Cornish-Fisher VaR (5%)</th>\n",
       "      <th>Historic CVaR (5%)</th>\n",
       "      <th>Sharpe Ratio</th>\n",
       "      <th>Max Drawdown</th>\n",
       "    </tr>\n",
       "  </thead>\n",
       "  <tbody>\n",
       "    <tr>\n",
       "      <th>0</th>\n",
       "      <td>0.035717</td>\n",
       "      <td>0.003799</td>\n",
       "      <td>0.501628</td>\n",
       "      <td>3.909118</td>\n",
       "      <td>-0.001314</td>\n",
       "      <td>-0.000823</td>\n",
       "      <td>1.464648</td>\n",
       "      <td>-0.000193</td>\n",
       "    </tr>\n",
       "  </tbody>\n",
       "</table>\n",
       "</div>"
      ],
      "text/plain": [
       "   Annualized Return  Annualized Vol  Skewness  Kurtosis  \\\n",
       "0           0.035717        0.003799  0.501628  3.909118   \n",
       "\n",
       "   Cornish-Fisher VaR (5%)  Historic CVaR (5%)  Sharpe Ratio  Max Drawdown  \n",
       "0                -0.001314           -0.000823      1.464648     -0.000193  "
      ]
     },
     "execution_count": 2,
     "metadata": {},
     "output_type": "execute_result"
    }
   ],
   "source": [
    "rates, zc_prices = erk.cir(10, 500, b=0.03, r_0 = 0.03)\n",
    "price_10 = erk.bond_price(10, 100, .05, 12, rates)\n",
    "price_30 = erk.bond_price(30, 100, .05, 12, rates)\n",
    "rets_30 = erk.bond_total_return(price_30, 100, .05, 12)\n",
    "rets_10 = erk.bond_total_return(price_10, 100, .05, 12)\n",
    "rets_bonds = erk.bt_mix(rets_10, rets_30, allocator=erk.fixedmix_allocator, w1=.6)\n",
    "mean_rets_bonds = rets_bonds.mean(axis='columns')\n",
    "erk.summary_stats(pd.DataFrame(mean_rets_bonds))"
   ]
  },
  {
   "cell_type": "markdown",
   "metadata": {},
   "source": [
    "Next, we'll use this to create a 70-30 Stock Bond Mix. First, we'll generate stock returns:"
   ]
  },
  {
   "cell_type": "code",
   "execution_count": 3,
   "metadata": {},
   "outputs": [],
   "source": [
    "price_eq = erk.gbm(n_years=10,n_scenarios=500,mu=0.07, sigma=0.15)\n",
    "rets_eq = price_eq.pct_change().dropna()\n",
    "rets_zc = zc_prices.pct_change().dropna()"
   ]
  },
  {
   "cell_type": "markdown",
   "metadata": {},
   "source": [
    "And next, we'll use the mix backtester to build a 70-30 Stock-Bond mix. One way to assess the performance is, as before, to generate a composite and produce summary stats on the composite. We'll also examine a second approach, which is to compute summary stats on each scenario and average the summary stats."
   ]
  },
  {
   "cell_type": "code",
   "execution_count": 4,
   "metadata": {},
   "outputs": [
    {
     "data": {
      "text/html": [
       "<div>\n",
       "<style scoped>\n",
       "    .dataframe tbody tr th:only-of-type {\n",
       "        vertical-align: middle;\n",
       "    }\n",
       "\n",
       "    .dataframe tbody tr th {\n",
       "        vertical-align: top;\n",
       "    }\n",
       "\n",
       "    .dataframe thead th {\n",
       "        text-align: right;\n",
       "    }\n",
       "</style>\n",
       "<table border=\"1\" class=\"dataframe\">\n",
       "  <thead>\n",
       "    <tr style=\"text-align: right;\">\n",
       "      <th></th>\n",
       "      <th>Annualized Return</th>\n",
       "      <th>Annualized Vol</th>\n",
       "      <th>Skewness</th>\n",
       "      <th>Kurtosis</th>\n",
       "      <th>Cornish-Fisher VaR (5%)</th>\n",
       "      <th>Historic CVaR (5%)</th>\n",
       "      <th>Sharpe Ratio</th>\n",
       "      <th>Max Drawdown</th>\n",
       "    </tr>\n",
       "  </thead>\n",
       "  <tbody>\n",
       "    <tr>\n",
       "      <th>0</th>\n",
       "      <td>0.057935</td>\n",
       "      <td>0.004846</td>\n",
       "      <td>0.144727</td>\n",
       "      <td>2.4616</td>\n",
       "      <td>-0.002457</td>\n",
       "      <td>-0.002114</td>\n",
       "      <td>5.611167</td>\n",
       "      <td>0.0</td>\n",
       "    </tr>\n",
       "  </tbody>\n",
       "</table>\n",
       "</div>"
      ],
      "text/plain": [
       "   Annualized Return  Annualized Vol  Skewness  Kurtosis  \\\n",
       "0           0.057935        0.004846  0.144727    2.4616   \n",
       "\n",
       "   Cornish-Fisher VaR (5%)  Historic CVaR (5%)  Sharpe Ratio  Max Drawdown  \n",
       "0                -0.002457           -0.002114      5.611167           0.0  "
      ]
     },
     "execution_count": 4,
     "metadata": {},
     "output_type": "execute_result"
    }
   ],
   "source": [
    "rets_7030b = erk.bt_mix(rets_eq, rets_bonds, allocator=erk.fixedmix_allocator, w1=0.7)\n",
    "rets_7030b_mean = rets_7030b.mean(axis='columns')\n",
    "erk.summary_stats(pd.DataFrame(rets_7030b_mean))"
   ]
  },
  {
   "cell_type": "code",
   "execution_count": 5,
   "metadata": {},
   "outputs": [
    {
     "data": {
      "text/html": [
       "<div>\n",
       "<style scoped>\n",
       "    .dataframe tbody tr th:only-of-type {\n",
       "        vertical-align: middle;\n",
       "    }\n",
       "\n",
       "    .dataframe tbody tr th {\n",
       "        vertical-align: top;\n",
       "    }\n",
       "\n",
       "    .dataframe thead th {\n",
       "        text-align: right;\n",
       "    }\n",
       "</style>\n",
       "<table border=\"1\" class=\"dataframe\">\n",
       "  <thead>\n",
       "    <tr style=\"text-align: right;\">\n",
       "      <th></th>\n",
       "      <th>Annualized Return</th>\n",
       "      <th>Annualized Vol</th>\n",
       "      <th>Skewness</th>\n",
       "      <th>Kurtosis</th>\n",
       "      <th>Cornish-Fisher VaR (5%)</th>\n",
       "      <th>Historic CVaR (5%)</th>\n",
       "      <th>Sharpe Ratio</th>\n",
       "      <th>Max Drawdown</th>\n",
       "    </tr>\n",
       "  </thead>\n",
       "  <tbody>\n",
       "    <tr>\n",
       "      <th>0</th>\n",
       "      <td>0.028663</td>\n",
       "      <td>0.107851</td>\n",
       "      <td>-0.322240</td>\n",
       "      <td>2.723387</td>\n",
       "      <td>0.051109</td>\n",
       "      <td>0.064645</td>\n",
       "      <td>-0.012203</td>\n",
       "      <td>-0.311107</td>\n",
       "    </tr>\n",
       "    <tr>\n",
       "      <th>1</th>\n",
       "      <td>0.036678</td>\n",
       "      <td>0.113594</td>\n",
       "      <td>0.003694</td>\n",
       "      <td>3.254471</td>\n",
       "      <td>0.049972</td>\n",
       "      <td>0.066805</td>\n",
       "      <td>0.057081</td>\n",
       "      <td>-0.194995</td>\n",
       "    </tr>\n",
       "    <tr>\n",
       "      <th>2</th>\n",
       "      <td>0.088658</td>\n",
       "      <td>0.100275</td>\n",
       "      <td>-0.330492</td>\n",
       "      <td>3.017338</td>\n",
       "      <td>0.042534</td>\n",
       "      <td>0.055321</td>\n",
       "      <td>0.569241</td>\n",
       "      <td>-0.120268</td>\n",
       "    </tr>\n",
       "    <tr>\n",
       "      <th>3</th>\n",
       "      <td>-0.012312</td>\n",
       "      <td>0.114174</td>\n",
       "      <td>0.565938</td>\n",
       "      <td>4.309820</td>\n",
       "      <td>0.048140</td>\n",
       "      <td>0.062039</td>\n",
       "      <td>-0.360799</td>\n",
       "      <td>-0.240913</td>\n",
       "    </tr>\n",
       "    <tr>\n",
       "      <th>4</th>\n",
       "      <td>0.050785</td>\n",
       "      <td>0.106526</td>\n",
       "      <td>0.002075</td>\n",
       "      <td>3.035683</td>\n",
       "      <td>0.045726</td>\n",
       "      <td>0.060859</td>\n",
       "      <td>0.189776</td>\n",
       "      <td>-0.262335</td>\n",
       "    </tr>\n",
       "  </tbody>\n",
       "</table>\n",
       "</div>"
      ],
      "text/plain": [
       "   Annualized Return  Annualized Vol  Skewness  Kurtosis  \\\n",
       "0           0.028663        0.107851 -0.322240  2.723387   \n",
       "1           0.036678        0.113594  0.003694  3.254471   \n",
       "2           0.088658        0.100275 -0.330492  3.017338   \n",
       "3          -0.012312        0.114174  0.565938  4.309820   \n",
       "4           0.050785        0.106526  0.002075  3.035683   \n",
       "\n",
       "   Cornish-Fisher VaR (5%)  Historic CVaR (5%)  Sharpe Ratio  Max Drawdown  \n",
       "0                 0.051109            0.064645     -0.012203     -0.311107  \n",
       "1                 0.049972            0.066805      0.057081     -0.194995  \n",
       "2                 0.042534            0.055321      0.569241     -0.120268  \n",
       "3                 0.048140            0.062039     -0.360799     -0.240913  \n",
       "4                 0.045726            0.060859      0.189776     -0.262335  "
      ]
     },
     "execution_count": 5,
     "metadata": {},
     "output_type": "execute_result"
    }
   ],
   "source": [
    "# Approach 2: compute stats on each scenario and then average\n",
    "summaries = erk.summary_stats(rets_7030b)\n",
    "summaries.head()"
   ]
  },
  {
   "cell_type": "code",
   "execution_count": 6,
   "metadata": {},
   "outputs": [
    {
     "data": {
      "text/plain": [
       "Annualized Return          0.052409\n",
       "Annualized Vol             0.107579\n",
       "Skewness                  -0.001296\n",
       "Kurtosis                   2.966990\n",
       "Cornish-Fisher VaR (5%)    0.046173\n",
       "Historic CVaR (5%)         0.058408\n",
       "Sharpe Ratio               0.204225\n",
       "Max Drawdown              -0.211131\n",
       "dtype: float64"
      ]
     },
     "execution_count": 6,
     "metadata": {},
     "output_type": "execute_result"
    }
   ],
   "source": [
    "summaries.mean()"
   ]
  },
  {
   "cell_type": "markdown",
   "metadata": {},
   "source": [
    "However, both of these summaries are imperfect, since they aggregate across a wide distribution. In different situations one or the other might make sense, but for most individuals, the range of outcomes are what matters because we observe only one of the different possible scenarios.\n",
    "\n",
    "Therefore, it make sense to example the range of possible outcomes and look at not just the average but also the less likely but possible outcomes.\n",
    "\n",
    "## Distribution of Terminal Values and Measuring Risk Budget Efficiency\n",
    "\n",
    "The basic idea is to measure the distribution of terminal values across all scenarios."
   ]
  },
  {
   "cell_type": "markdown",
   "metadata": {},
   "source": [
    "```python\n",
    "def terminal_values(rets):\n",
    "    \"\"\"\n",
    "    Computes the terminal values from a set of returns supplied as a T x N DataFrame\n",
    "    Return a Series of length N indexed by the columns of rets\n",
    "    \"\"\"\n",
    "    return (rets+1).prod()\n",
    "\n",
    "def terminal_stats(rets, floor = 0.8, cap=np.inf, name=\"Stats\"):\n",
    "    \"\"\"\n",
    "    Produce Summary Statistics on the terminal values per invested dollar\n",
    "    across a range of N scenarios\n",
    "    rets is a T x N DataFrame of returns, where T is the time-step (we assume rets is sorted by time)\n",
    "    Returns a 1 column DataFrame of Summary Stats indexed by the stat name \n",
    "    \"\"\"\n",
    "    terminal_wealth = (rets+1).prod()\n",
    "    breach = terminal_wealth < floor\n",
    "    reach = terminal_wealth >= cap\n",
    "    p_breach = breach.mean() if breach.sum() > 0 else np.nan\n",
    "    p_reach = breach.mean() if reach.sum() > 0 else np.nan\n",
    "    e_short = (floor-terminal_wealth[breach]).mean() if breach.sum() > 0 else np.nan\n",
    "    e_surplus = (cap-terminal_wealth[reach]).mean() if reach.sum() > 0 else np.nan\n",
    "    sum_stats = pd.DataFrame.from_dict({\n",
    "        \"mean\": terminal_wealth.mean(),\n",
    "        \"std\" : terminal_wealth.std(),\n",
    "        \"p_breach\": p_breach,\n",
    "        \"e_short\":e_short,\n",
    "        \"p_reach\": p_reach,\n",
    "        \"e_surplus\": e_surplus\n",
    "    }, orient=\"index\", columns=[name])\n",
    "    return sum_stats\n",
    "\n",
    "```"
   ]
  },
  {
   "cell_type": "code",
   "execution_count": 7,
   "metadata": {},
   "outputs": [
    {
     "data": {
      "text/html": [
       "<div>\n",
       "<style scoped>\n",
       "    .dataframe tbody tr th:only-of-type {\n",
       "        vertical-align: middle;\n",
       "    }\n",
       "\n",
       "    .dataframe tbody tr th {\n",
       "        vertical-align: top;\n",
       "    }\n",
       "\n",
       "    .dataframe thead th {\n",
       "        text-align: right;\n",
       "    }\n",
       "</style>\n",
       "<table border=\"1\" class=\"dataframe\">\n",
       "  <thead>\n",
       "    <tr style=\"text-align: right;\">\n",
       "      <th></th>\n",
       "      <th>Annualized Return</th>\n",
       "      <th>Annualized Vol</th>\n",
       "      <th>Skewness</th>\n",
       "      <th>Kurtosis</th>\n",
       "      <th>Cornish-Fisher VaR (5%)</th>\n",
       "      <th>Historic CVaR (5%)</th>\n",
       "      <th>Sharpe Ratio</th>\n",
       "      <th>Max Drawdown</th>\n",
       "    </tr>\n",
       "  </thead>\n",
       "  <tbody>\n",
       "    <tr>\n",
       "      <th>0</th>\n",
       "      <td>0.054737</td>\n",
       "      <td>0.004285</td>\n",
       "      <td>0.145642</td>\n",
       "      <td>2.566269</td>\n",
       "      <td>-0.002466</td>\n",
       "      <td>-0.002133</td>\n",
       "      <td>5.6189</td>\n",
       "      <td>0.0</td>\n",
       "    </tr>\n",
       "  </tbody>\n",
       "</table>\n",
       "</div>"
      ],
      "text/plain": [
       "   Annualized Return  Annualized Vol  Skewness  Kurtosis  \\\n",
       "0           0.054737        0.004285  0.145642  2.566269   \n",
       "\n",
       "   Cornish-Fisher VaR (5%)  Historic CVaR (5%)  Sharpe Ratio  Max Drawdown  \n",
       "0                -0.002466           -0.002133        5.6189           0.0  "
      ]
     },
     "execution_count": 7,
     "metadata": {},
     "output_type": "execute_result"
    }
   ],
   "source": [
    "rets_6040b = erk.bt_mix(rets_eq, rets_bonds, allocator=erk.fixedmix_allocator, w1=0.6)\n",
    "rets_6040b_mean = rets_6040b.mean(axis='columns')\n",
    "erk.summary_stats(pd.DataFrame(rets_6040b_mean))"
   ]
  },
  {
   "cell_type": "code",
   "execution_count": 8,
   "metadata": {},
   "outputs": [
    {
     "data": {
      "text/html": [
       "<div>\n",
       "<style scoped>\n",
       "    .dataframe tbody tr th:only-of-type {\n",
       "        vertical-align: middle;\n",
       "    }\n",
       "\n",
       "    .dataframe tbody tr th {\n",
       "        vertical-align: top;\n",
       "    }\n",
       "\n",
       "    .dataframe thead th {\n",
       "        text-align: right;\n",
       "    }\n",
       "</style>\n",
       "<table border=\"1\" class=\"dataframe\">\n",
       "  <thead>\n",
       "    <tr style=\"text-align: right;\">\n",
       "      <th></th>\n",
       "      <th>FI</th>\n",
       "      <th>Eq</th>\n",
       "      <th>70/30</th>\n",
       "      <th>60/40</th>\n",
       "    </tr>\n",
       "  </thead>\n",
       "  <tbody>\n",
       "    <tr>\n",
       "      <th>mean</th>\n",
       "      <td>1.381168</td>\n",
       "      <td>1.910835</td>\n",
       "      <td>1.746042</td>\n",
       "      <td>1.691994</td>\n",
       "    </tr>\n",
       "    <tr>\n",
       "      <th>std</th>\n",
       "      <td>0.113788</td>\n",
       "      <td>0.922334</td>\n",
       "      <td>0.579836</td>\n",
       "      <td>0.480787</td>\n",
       "    </tr>\n",
       "    <tr>\n",
       "      <th>p_breach</th>\n",
       "      <td>NaN</td>\n",
       "      <td>0.038000</td>\n",
       "      <td>0.006000</td>\n",
       "      <td>0.002000</td>\n",
       "    </tr>\n",
       "    <tr>\n",
       "      <th>e_short</th>\n",
       "      <td>NaN</td>\n",
       "      <td>0.104379</td>\n",
       "      <td>0.046625</td>\n",
       "      <td>0.031209</td>\n",
       "    </tr>\n",
       "    <tr>\n",
       "      <th>p_reach</th>\n",
       "      <td>NaN</td>\n",
       "      <td>NaN</td>\n",
       "      <td>NaN</td>\n",
       "      <td>NaN</td>\n",
       "    </tr>\n",
       "    <tr>\n",
       "      <th>e_surplus</th>\n",
       "      <td>NaN</td>\n",
       "      <td>NaN</td>\n",
       "      <td>NaN</td>\n",
       "      <td>NaN</td>\n",
       "    </tr>\n",
       "  </tbody>\n",
       "</table>\n",
       "</div>"
      ],
      "text/plain": [
       "                 FI        Eq     70/30     60/40\n",
       "mean       1.381168  1.910835  1.746042  1.691994\n",
       "std        0.113788  0.922334  0.579836  0.480787\n",
       "p_breach        NaN  0.038000  0.006000  0.002000\n",
       "e_short         NaN  0.104379  0.046625  0.031209\n",
       "p_reach         NaN       NaN       NaN       NaN\n",
       "e_surplus       NaN       NaN       NaN       NaN"
      ]
     },
     "execution_count": 8,
     "metadata": {},
     "output_type": "execute_result"
    }
   ],
   "source": [
    "pd.concat([erk.terminal_stats(rets_bonds, name=\"FI\"), \n",
    "           erk.terminal_stats(rets_eq, name=\"Eq\"),\n",
    "           erk.terminal_stats(rets_7030b, name=\"70/30\"),\n",
    "           erk.terminal_stats(rets_6040b, name=\"60/40\")],\n",
    "          axis=1)"
   ]
  },
  {
   "cell_type": "code",
   "execution_count": 9,
   "metadata": {},
   "outputs": [
    {
     "data": {
      "image/png": "[encoded data removed]",
      "text/plain": [
       "<Figure size 864x432 with 1 Axes>"
      ]
     },
     "metadata": {
      "needs_background": "light"
     },
     "output_type": "display_data"
    }
   ],
   "source": [
    "import seaborn as sns\n",
    "import matplotlib.pyplot as plt\n",
    "plt.figure(figsize=(12, 6))\n",
    "sns.distplot(erk.terminal_values(rets_eq), color=\"red\", label=\"100% Equities\")\n",
    "sns.distplot(erk.terminal_values(rets_bonds), color=\"blue\", label=\"100% Bonds\")\n",
    "sns.distplot(erk.terminal_values(rets_7030b), color=\"orange\", label=\"70/30 Equities/Bonds\")\n",
    "plt.legend();"
   ]
  },
  {
   "cell_type": "markdown",
   "metadata": {},
   "source": [
    "Note how the higher mean return of the equities portfolio is due in part to the large upside spread in equities.\n",
    "\n",
    "## Risk Budgeting through Glide Path Allocation\n",
    "\n",
    "A potential improvement over naive fixed mix is to risk budget by making a simplistic assumption that risk = time.\n",
    "\n",
    "In other words, if you have more time, increase the risk budget. If you have less time, derisk. This is the thinking behind a Target Date Fund.\n",
    "\n",
    "Let's write an allocator that defines the weights as a glidepath sthat starts at a starting weight and then gradually decreases the weights to equities over time to an ending weight. For example, you can start at 80% stocks at the start of the 10 year period and then gradually move to 20% stocks by the end of the 10 year period.\n",
    "\n",
    "Let's see how this does:\n",
    "\n",
    "```python\n",
    "def glidepath_allocator(r1, r2, start_glide=1, end_glide=0.0):\n",
    "    \"\"\"\n",
    "    Allocates weights to r1 starting at start_glide and ends at end_glide\n",
    "    by gradually moving from start_glide to end_glide over time\n",
    "    \"\"\"\n",
    "    n_points = r1.shape[0]\n",
    "    n_col = r1.shape[1]\n",
    "    path = pd.Series(data=np.linspace(start_glide, end_glide, num=n_points))\n",
    "    paths = pd.concat([path]*n_col, axis=1)\n",
    "    paths.index = r1.index\n",
    "    paths.columns = r1.columns\n",
    "    return paths\n",
    "```\n"
   ]
  },
  {
   "cell_type": "code",
   "execution_count": 10,
   "metadata": {},
   "outputs": [
    {
     "data": {
      "text/html": [
       "<div>\n",
       "<style scoped>\n",
       "    .dataframe tbody tr th:only-of-type {\n",
       "        vertical-align: middle;\n",
       "    }\n",
       "\n",
       "    .dataframe tbody tr th {\n",
       "        vertical-align: top;\n",
       "    }\n",
       "\n",
       "    .dataframe thead th {\n",
       "        text-align: right;\n",
       "    }\n",
       "</style>\n",
       "<table border=\"1\" class=\"dataframe\">\n",
       "  <thead>\n",
       "    <tr style=\"text-align: right;\">\n",
       "      <th></th>\n",
       "      <th>FI</th>\n",
       "      <th>Eq</th>\n",
       "      <th>70/30</th>\n",
       "      <th>Glide 80 to 20</th>\n",
       "    </tr>\n",
       "  </thead>\n",
       "  <tbody>\n",
       "    <tr>\n",
       "      <th>mean</th>\n",
       "      <td>1.381168</td>\n",
       "      <td>1.910835</td>\n",
       "      <td>1.746042</td>\n",
       "      <td>1.639011</td>\n",
       "    </tr>\n",
       "    <tr>\n",
       "      <th>std</th>\n",
       "      <td>0.113788</td>\n",
       "      <td>0.922334</td>\n",
       "      <td>0.579836</td>\n",
       "      <td>0.420003</td>\n",
       "    </tr>\n",
       "    <tr>\n",
       "      <th>p_breach</th>\n",
       "      <td>NaN</td>\n",
       "      <td>0.038000</td>\n",
       "      <td>0.006000</td>\n",
       "      <td>0.002000</td>\n",
       "    </tr>\n",
       "    <tr>\n",
       "      <th>e_short</th>\n",
       "      <td>NaN</td>\n",
       "      <td>0.104379</td>\n",
       "      <td>0.046625</td>\n",
       "      <td>0.079289</td>\n",
       "    </tr>\n",
       "    <tr>\n",
       "      <th>p_reach</th>\n",
       "      <td>NaN</td>\n",
       "      <td>NaN</td>\n",
       "      <td>NaN</td>\n",
       "      <td>NaN</td>\n",
       "    </tr>\n",
       "    <tr>\n",
       "      <th>e_surplus</th>\n",
       "      <td>NaN</td>\n",
       "      <td>NaN</td>\n",
       "      <td>NaN</td>\n",
       "      <td>NaN</td>\n",
       "    </tr>\n",
       "  </tbody>\n",
       "</table>\n",
       "</div>"
      ],
      "text/plain": [
       "                 FI        Eq     70/30  Glide 80 to 20\n",
       "mean       1.381168  1.910835  1.746042        1.639011\n",
       "std        0.113788  0.922334  0.579836        0.420003\n",
       "p_breach        NaN  0.038000  0.006000        0.002000\n",
       "e_short         NaN  0.104379  0.046625        0.079289\n",
       "p_reach         NaN       NaN       NaN             NaN\n",
       "e_surplus       NaN       NaN       NaN             NaN"
      ]
     },
     "execution_count": 10,
     "metadata": {},
     "output_type": "execute_result"
    }
   ],
   "source": [
    "\n",
    "rets_g8020 = erk.bt_mix(rets_eq, rets_bonds, allocator=erk.glidepath_allocator, start_glide=.8, end_glide=.2)\n",
    "pd.concat([erk.terminal_stats(rets_bonds, name=\"FI\"), \n",
    "           erk.terminal_stats(rets_eq, name=\"Eq\"),\n",
    "           erk.terminal_stats(rets_7030b, name=\"70/30\"),\n",
    "           erk.terminal_stats(rets_g8020, name=\"Glide 80 to 20\")],\n",
    "          axis=1)"
   ]
  },
  {
   "cell_type": "code",
   "execution_count": 11,
   "metadata": {},
   "outputs": [
    {
     "data": {
      "image/png": "[encoded data removed]",
      "text/plain": [
       "<Figure size 864x432 with 1 Axes>"
      ]
     },
     "metadata": {
      "needs_background": "light"
     },
     "output_type": "display_data"
    }
   ],
   "source": [
    "rets_7030z = erk.bt_mix(rets_eq, rets_zc, allocator=erk.fixedmix_allocator, w1=0.7)\n",
    "plt.figure(figsize=(12, 6))\n",
    "#sns.distplot(terminal_values(rets_eq), color=\"red\", label=\"100% Equities\")\n",
    "#sns.distplot(terminal_values(rets_bonds), color=\"blue\", label=\"100% Bonds\")\n",
    "sns.distplot(erk.terminal_values(rets_7030b), color=\"orange\", label=\"70/30 Equities/Bonds\")\n",
    "#sns.distplot(terminal_values(rets_g8020), color=\"green\", label=\"Glide 80 to 20\")\n",
    "sns.distplot(erk.terminal_values(rets_7030z), color=\"grey\", label=\"70/30 Equities/Zeros\")\n",
    "plt.legend();"
   ]
  },
  {
   "cell_type": "markdown",
   "metadata": {},
   "source": [
    "### Conclusion\n",
    "\n",
    "Static or Naive risk budgeting involves allocating between the PSP and GHP using either a simple fixed mix or a blind glidepath. These can reduce the downside risk but come at the cost the expected return, and cannot be used to secure a minimum acceptable level of wealth or liabilities. In the next session, we'll examine dynamic approaches that will address the challenge of meeting a set of future liabilities such as replacement income, or a required level of wealth in the future.\n",
    "\n",
    "Before that, add the following code to the risk kit:\n",
    "\n",
    "```python\n",
    "def bt_mix(r1, r2, allocator, **kwargs):\n",
    "    \"\"\"\n",
    "    Runs a back test (simulation) of allocating between a two sets of returns\n",
    "    r1 and r2 are T x N DataFrames or returns where T is the time step index and N is the number of scenarios.\n",
    "    allocator is a function that takes two sets of returns and allocator specific parameters, and produces\n",
    "    an allocation to the first portfolio (the rest of the money is invested in the GHP) as a T x 1 DataFrame\n",
    "    Returns a T x N DataFrame of the resulting N portfolio scenarios\n",
    "    \"\"\"\n",
    "    if not r1.shape == r2.shape:\n",
    "        raise ValueError(\"r1 and r2 should have the same shape\")\n",
    "    weights = allocator(r1, r2, **kwargs)\n",
    "    if not weights.shape == r1.shape:\n",
    "        raise ValueError(\"Allocator returned weights with a different shape than the returns\")\n",
    "    r_mix = weights*r1 + (1-weights)*r2\n",
    "    return r_mix\n",
    "\n",
    "\n",
    "def fixedmix_allocator(r1, r2, w1, **kwargs):\n",
    "    \"\"\"\n",
    "    Produces a time series over T steps of allocations between the PSP and GHP across N scenarios\n",
    "    PSP and GHP are T x N DataFrames that represent the returns of the PSP and GHP such that:\n",
    "     each column is a scenario\n",
    "     each row is the price for a timestep\n",
    "    Returns an T x N DataFrame of PSP Weights\n",
    "    \"\"\"\n",
    "    return pd.DataFrame(data = w1, index=r1.index, columns=r1.columns)\n",
    "\n",
    "def terminal_values(rets):\n",
    "    \"\"\"\n",
    "    Computes the terminal values from a set of returns supplied as a T x N DataFrame\n",
    "    Return a Series of length N indexed by the columns of rets\n",
    "    \"\"\"\n",
    "    return (rets+1).prod()\n",
    "\n",
    "def terminal_stats(rets, floor = 0.8, cap=np.inf, name=\"Stats\"):\n",
    "    \"\"\"\n",
    "    Produce Summary Statistics on the terminal values per invested dollar\n",
    "    across a range of N scenarios\n",
    "    rets is a T x N DataFrame of returns, where T is the time-step (we assume rets is sorted by time)\n",
    "    Returns a 1 column DataFrame of Summary Stats indexed by the stat name \n",
    "    \"\"\"\n",
    "    terminal_wealth = (rets+1).prod()\n",
    "    breach = terminal_wealth < floor\n",
    "    reach = terminal_wealth >= cap\n",
    "    p_breach = breach.mean() if breach.sum() > 0 else np.nan\n",
    "    p_reach = breach.mean() if reach.sum() > 0 else np.nan\n",
    "    e_short = (floor-terminal_wealth[breach]).mean() if breach.sum() > 0 else np.nan\n",
    "    e_surplus = (cap-terminal_wealth[reach]).mean() if reach.sum() > 0 else np.nan\n",
    "    sum_stats = pd.DataFrame.from_dict({\n",
    "        \"mean\": terminal_wealth.mean(),\n",
    "        \"std\" : terminal_wealth.std(),\n",
    "        \"p_breach\": p_breach,\n",
    "        \"e_short\":e_short,\n",
    "        \"p_reach\": p_reach,\n",
    "        \"e_surplus\": e_surplus\n",
    "    }, orient=\"index\", columns=[name])\n",
    "    return sum_stats\n",
    "\n",
    "def glidepath_allocator(r1, r2, start_glide=1, end_glide=0.0):\n",
    "    \"\"\"\n",
    "    Allocates weights to r1 starting at start_glide and ends at end_glide\n",
    "    by gradually moving from start_glide to end_glide over time\n",
    "    \"\"\"\n",
    "    n_points = r1.shape[0]\n",
    "    n_col = r1.shape[1]\n",
    "    path = pd.Series(data=np.linspace(start_glide, end_glide, num=n_points))\n",
    "    paths = pd.concat([path]*n_col, axis=1)\n",
    "    paths.index = r1.index\n",
    "    paths.columns = r1.columns\n",
    "    return paths\n",
    "\n",
    "```\n"
   ]
  },
  {
   "cell_type": "code",
   "execution_count": null,
   "metadata": {},
   "outputs": [],
   "source": []
  }
 ],
 "metadata": {
  "kernelspec": {
   "display_name": "Python 3",
   "language": "python",
   "name": "python3"
  },
  "language_info": {
   "codemirror_mode": {
    "name": "ipython",
    "version": 3
   },
   "file_extension": ".py",
   "mimetype": "text/x-python",
   "name": "python",
   "nbconvert_exporter": "python",
   "pygments_lexer": "ipython3",
   "version": "3.7.6"
  }
 },
 "nbformat": 4,
 "nbformat_minor": 2
}
