{
 "cells": [
  {
   "cell_type": "markdown",
   "metadata": {},
   "source": [
    "1. Consider the Monte Carlo Simulation we ran for CPPI. Assume there is no floor set (i.e. Floor is set to Zero) As you increase the number of scenarios, which of the following would you expect:"
   ]
  },
  {
   "cell_type": "markdown",
   "metadata": {},
   "source": [
    "The difference in terminal wealth between the Worst Scenario and the Best Scenario will DEPEND ON THE RISK FREE RATE --> False\n",
    "\n",
    "The difference in terminal wealth between the Worst Scenario and the Best Scenario will INCREASE --> True\n",
    "\n",
    "The difference in terminal wealth between the Worst Scenario and the Best Scenario will DECREASE --> False\n",
    "\n",
    "The difference in terminal wealth between the Worst Scenario and the Best Scenario will STAY THE SAME --> False"
   ]
  },
  {
   "cell_type": "markdown",
   "metadata": {},
   "source": [
    "2. As you increase the FLOOR, the WORST CASE scenario will:"
   ]
  },
  {
   "cell_type": "markdown",
   "metadata": {},
   "source": [
    "INCREASE --> True\n",
    "\n",
    "DECREASE --> False\n",
    "\n",
    "REMAIN UNCHANGED --> False"
   ]
  },
  {
   "cell_type": "markdown",
   "metadata": {},
   "source": [
    "3. Assume a non-zero floor that is less than the starting wealth. As you increase mu and keep other parameters fixed, you would expect that the terminal wealth:"
   ]
  },
  {
   "cell_type": "markdown",
   "metadata": {},
   "source": [
    "INCREASES --> True\n",
    "\n",
    "INCREASES OR DECREASES - IT DEPENDS ON multiplier ‘m’ --> False\n",
    "\n",
    "INCREASES OR DECREASES - IT DEPENDS ON SIGMA --> False\n",
    "\n",
    "DECREASES --> False"
   ]
  },
  {
   "cell_type": "markdown",
   "metadata": {},
   "source": [
    "4. All other things being equal, which of these changes will cause an INCREASE in floor violations"
   ]
  },
  {
   "cell_type": "markdown",
   "metadata": {},
   "source": [
    "Increasing “m” but decreasing “sigma” --> False\n",
    "\n",
    "Decreasing “m” but increasing “sigma” --> False\n",
    "\n",
    "Increasing both “m” and “sigma” --> True"
   ]
  },
  {
   "cell_type": "markdown",
   "metadata": {},
   "source": [
    "5. All other things being equal, which of these changes will cause an INCREASE in floor violations"
   ]
  },
  {
   "cell_type": "markdown",
   "metadata": {},
   "source": [
    "Increasing both “m” and “rebals per year” --> False\n",
    "\n",
    "Increasing “m” but decreasing “rebals per year” --> True\n",
    "\n",
    "Decreasing “m” but increasing “rebals per year” --> False"
   ]
  },
  {
   "cell_type": "markdown",
   "metadata": {},
   "source": [
    "6. All other things being equal, which of these changes will cause in INCREASE in Expected Shortfall"
   ]
  },
  {
   "cell_type": "markdown",
   "metadata": {},
   "source": [
    "Increasing both “m” and “rebals per year” --> False\n",
    "\n",
    "Increasing “m” but decreasing “rebals per year” --> True\n",
    "\n",
    "Decreasing “m” but increasing “rebals per year” -->False"
   ]
  },
  {
   "cell_type": "markdown",
   "metadata": {},
   "source": [
    "7. Parameter changes that increase the probability of floor violations will also tend to increase the Expected Shortfall. This statement is:"
   ]
  },
  {
   "cell_type": "markdown",
   "metadata": {},
   "source": [
    "True if the Risk Free Rate is expected to increase --> False\n",
    "\n",
    "True only if mu is greater than sigma --> False\n",
    "\n",
    "False --> False\n",
    "\n",
    "True only if mu is smaller than sigma --> False\n",
    "\n",
    "True --> True"
   ]
  },
  {
   "cell_type": "markdown",
   "metadata": {},
   "source": [
    "8. A CPPI Based Principal Protection Strategy aims to return at least the invested principal by setting the floor equal to the initial value of the assets. Which of the following is true:"
   ]
  },
  {
   "cell_type": "markdown",
   "metadata": {},
   "source": [
    "It is only possible to run a CPPI based Principal Protection Strategy strategy if mu is greater than or equal to 0 --> False\n",
    "\n",
    "It is only possible to run a CPPI based Principal Protection Strategy if the risk free rate is greater than or equal to 0 --> True\n",
    "\n",
    "It is only possible to run a CPPI based Principal Protection Strategy if mu is greater than the risk free rate -->False\n",
    "\n",
    "It is only possible to run a CPPI based Principal Protection Strategy if sigma is equal to zero --> False"
   ]
  },
  {
   "cell_type": "markdown",
   "metadata": {},
   "source": [
    "9. A CPPI based Principal Protection Strategy with 12 rebals per year can have a zero expected shortfall only if:"
   ]
  },
  {
   "cell_type": "markdown",
   "metadata": {},
   "source": [
    "m=1 --> True\n",
    "\n",
    "mu=1% -->False\n",
    "\n",
    "sigma is strictly lower than mu --> False\n",
    "\n",
    "m is strictly greater than 1 --> False"
   ]
  },
  {
   "cell_type": "markdown",
   "metadata": {},
   "source": [
    "10. All other things being equal, A CPPI based Principal Protection Strategy is more likely to have a final negative return if:"
   ]
  },
  {
   "cell_type": "markdown",
   "metadata": {},
   "source": [
    "sigma increases --> True\n",
    "\n",
    "mu increases --> False\n",
    "\n",
    "the investment horizon increases --> False\n",
    "\n",
    "rebals per year increases --> False"
   ]
  }
 ],
 "metadata": {
  "kernelspec": {
   "display_name": "Python 3",
   "language": "python",
   "name": "python3"
  },
  "language_info": {
   "codemirror_mode": {
    "name": "ipython",
    "version": 3
   },
   "file_extension": ".py",
   "mimetype": "text/x-python",
   "name": "python",
   "nbconvert_exporter": "python",
   "pygments_lexer": "ipython3",
   "version": "3.7.6"
  }
 },
 "nbformat": 4,
 "nbformat_minor": 4
}
