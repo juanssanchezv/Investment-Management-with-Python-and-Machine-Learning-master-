{
 "cells": [
  {
   "cell_type": "markdown",
   "metadata": {},
   "source": [
    "# Monte Carlo Simulation of Prices of Coupon-Bearing Bond using CIR\n",
    "\n",
    "As we have seen in the previous sessions, if we are fully funded, the best way to ensure that you will remain fully funded and be able to meet your liabilities is to build a portfolio of immunized bonds that are designed to match the future liability cash flows.\n",
    "\n",
    "In practice, few of us, both in a Pension Fund context and even more so in a Personal Investment context, already have the assets to fund all future liabilities. Other than in cases where 100% funding ratios are mandated by law, the far more common situation is that we typically do not have the assets we need to fully fund our future liabilities.\n",
    "\n",
    "That is where we need to allocate the wealth that we do have between the Performance Seeking Component, and the Goal Hedging Component that we have already seen.\n",
    "\n",
    "Therefore the next steps for us are to allocate our capital across two assets: the PSP and the GHP. The PSP, or Performance Seeking Portfolio, is where we consciously take some risk in the hope that the extra risk is well rewarded - in other words, a high Sharpe Ratio portfolio. The GHP or Goal Hedging Portfolio is the immunized bond portfolio that designed to protect us in case the worst case happens and we do not get the returns that we hope for from the PSP.\n",
    "\n",
    "This of course raises the question of how much to allocate to the PSP and how much to the GHP. Clearly, allocating more to the PSP entails a higher expected return but a higher degree of risk. On the other hand, allocating too little to the PSP means less risk, but lower expected return. Thus, the decision of how much to allocate to the PSP vs the GHP is essentially a risk budgeting exercise.\n",
    "\n",
    "We'll start out by developing the framework and in the next few lab sessions, examine different risk budgeting options.\n",
    "\n",
    "First, we'll need to make a choice of the PSP. For now, we'll start with something fairly simple, which is the Geometric Brownian Motion based random stock portfolios. Much of the second MOOC in this series is focused on how to build good PSPs in practice.\n",
    "\n",
    "However, we'll also need to pick a GHP. We can use Zero Coupon Bonds driven by random changes in interest rates using the CIR model. Since these are Zero Coupon, they are already immunized against interest rates if they are held to maturity. In practice, we've seen that even if we arent able to buy Zero Coupon bonds, we can construct bond portfolios that are designed to be insensitive to interest rates through duration matching.\n",
    "\n",
    "In this section, we'll develop the code necessary to simulate bond prices of coupon-bearing bonds and see how their prices change as interest rates fluctuate. We'll limit ourselves to Treasury Bonds and ignore credit risk (i.e. the risk of default on the Bond)."
   ]
  },
  {
   "cell_type": "code",
   "execution_count": 1,
   "metadata": {},
   "outputs": [],
   "source": [
    "import numpy as np\n",
    "import pandas as pd\n",
    "import edhec_risk_kit_127 as erk\n",
    "%matplotlib inline\n",
    "%load_ext autoreload\n",
    "%autoreload 2\n"
   ]
  },
  {
   "cell_type": "markdown",
   "metadata": {},
   "source": [
    "Note that when interest rates rise, it is a fallacy that holding an allocation to bonds will give you the benefit of that increase. In fact, the opposite happens since the price of the bond will fall, and as a result your account sill suffer a capital loss.\n",
    "\n",
    "Let's examine what happens to your wealth when you use a portfolio of stocks and bonds over a 5 year period.\n",
    "\n",
    "For simplicity, we'll assume you are holding a bond that has a maturity of 5 years and for simplicity with avoiding intra-coupon caclulations, let's assume it pays a 5% coupon and the coupon is paid out each month and interest rates change from 3% to 3.2%\n"
   ]
  },
  {
   "cell_type": "code",
   "execution_count": 2,
   "metadata": {},
   "outputs": [
    {
     "data": {
      "text/plain": [
       "0    109.275393\n",
       "dtype: float64"
      ]
     },
     "execution_count": 2,
     "metadata": {},
     "output_type": "execute_result"
    }
   ],
   "source": [
    "erk.bond_price(5,100,.05,12,.03)"
   ]
  },
  {
   "cell_type": "code",
   "execution_count": 3,
   "metadata": {},
   "outputs": [
    {
     "data": {
      "text/plain": [
       "0    108.306703\n",
       "dtype: float64"
      ]
     },
     "execution_count": 3,
     "metadata": {},
     "output_type": "execute_result"
    }
   ],
   "source": [
    "erk.bond_price(5,100,.05,12,.032)"
   ]
  },
  {
   "cell_type": "markdown",
   "metadata": {},
   "source": [
    "Now, let's compute the bond price with our simulated rates. We'll need to slightly generalize our `bond_prices` code to support vectors ..."
   ]
  },
  {
   "cell_type": "markdown",
   "metadata": {},
   "source": [
    "```python\n",
    "erk.bond_price(5,100,.05,12, rates.iloc[0]) ### returns an error\n",
    "# because of this:\n",
    "def discount(t, r):\n",
    "    \"\"\"\n",
    "    Compute the price of a pure discount bond that pays a dollar at time t where t is in years and r is the annual interest rate\n",
    "    \"\"\"\n",
    "    return (1+r)**(-t)\n",
    "# error\n",
    "discount(r.index, r) \n",
    "```\n",
    "\n",
    "Instead, we'll modify `discount` to return a DataFrame by iterating over all given interest rates. Note that this is not a time series of interest rates, or a yield curve - it's just a vector of interest rates and the discount factor is recomputed for each interest rate\n"
   ]
  },
  {
   "cell_type": "code",
   "execution_count": 4,
   "metadata": {},
   "outputs": [],
   "source": [
    "def discount(t, r):\n",
    "    \"\"\"\n",
    "    Compute the price of a pure discount bond that pays a dollar at time period t\n",
    "    and r is the per-period interest rate\n",
    "    returns a |t| x |r| Series or DataFrame\n",
    "    r can be a float, Series or DataFrame\n",
    "    returns a DataFrame indexed by t\n",
    "    \"\"\"\n",
    "    discounts = pd.DataFrame([(r+1)**-i for i in t])\n",
    "    discounts.index = t\n",
    "    return discounts"
   ]
  },
  {
   "cell_type": "markdown",
   "metadata": {},
   "source": [
    "Next, we also need to update the Present Value code to support DataFrames\n",
    "\n",
    "```python\n",
    "def pv(flows, r):\n",
    "    \"\"\"\n",
    "    Compute the present value of a sequence of cash flows given by the time (as an index) and amounts\n",
    "    r can be a scalar, or a Series or DataFrame with the number of rows matching the num of rows in flows\n",
    "    \"\"\"\n",
    "    dates = flows.index\n",
    "    discounts = discount(dates, r)\n",
    "    return (discounts*flows).sum()\n",
    "```\n",
    "needs to be replaced by\n",
    "\n",
    "```python\n",
    "def pv(flows, r):\n",
    "    \"\"\"\n",
    "    Compute the present value of a sequence of cash flows given by the time (as an index) and amounts\n",
    "    r can be a scalar, or a Series or DataFrame with the number of rows matching the num of rows in flows\n",
    "    \"\"\"\n",
    "    dates = flows.index\n",
    "    discounts = discount(dates, r)\n",
    "    return discounts.multiply(flows, axis='rows').sum()\n",
    "\n",
    "```\n",
    "\n",
    "(Note: This will impact other functions that use `erk.discount()` such as `erk.macaulay_duration`, which I have also updated in the library, but it won't be used in this lab session)"
   ]
  },
  {
   "cell_type": "code",
   "execution_count": 5,
   "metadata": {},
   "outputs": [
    {
     "data": {
      "text/plain": [
       "0    109.275393\n",
       "dtype: float64"
      ]
     },
     "execution_count": 5,
     "metadata": {},
     "output_type": "execute_result"
    }
   ],
   "source": [
    "erk.bond_price(5,100,.05,12, .03)"
   ]
  },
  {
   "cell_type": "markdown",
   "metadata": {},
   "source": [
    "We'll generate interest rates using the CIR model:"
   ]
  },
  {
   "cell_type": "code",
   "execution_count": 6,
   "metadata": {},
   "outputs": [],
   "source": [
    "# Simulation of 500 scenarios along 10 years  with parameters a=5%, b=3% and r_0=3% in a monthly basis (Steps_per_year=12)\n",
    "rates, zc_prices = erk.cir(10, 500, b=0.03, r_0 = 0.03)"
   ]
  },
  {
   "cell_type": "markdown",
   "metadata": {},
   "source": [
    "When we start out, all rates are at 3% and so the prices are all the same:"
   ]
  },
  {
   "cell_type": "code",
   "execution_count": 7,
   "metadata": {},
   "outputs": [
    {
     "data": {
      "text/plain": [
       "1    109.275393\n",
       "2    109.275393\n",
       "3    109.275393\n",
       "dtype: float64"
      ]
     },
     "execution_count": 7,
     "metadata": {},
     "output_type": "execute_result"
    }
   ],
   "source": [
    "# rates.iloc[0][1,2,3] returns the rates for the first three scenarios simulated at time = 0\n",
    "erk.bond_price(5,100,.05,12, rates.iloc[0][[1,2,3]])"
   ]
  },
  {
   "cell_type": "code",
   "execution_count": 8,
   "metadata": {},
   "outputs": [
    {
     "data": {
      "text/html": [
       "<div>\n",
       "<style scoped>\n",
       "    .dataframe tbody tr th:only-of-type {\n",
       "        vertical-align: middle;\n",
       "    }\n",
       "\n",
       "    .dataframe tbody tr th {\n",
       "        vertical-align: top;\n",
       "    }\n",
       "\n",
       "    .dataframe thead th {\n",
       "        text-align: right;\n",
       "    }\n",
       "</style>\n",
       "<table border=\"1\" class=\"dataframe\">\n",
       "  <thead>\n",
       "    <tr style=\"text-align: right;\">\n",
       "      <th></th>\n",
       "      <th>1</th>\n",
       "      <th>2</th>\n",
       "      <th>3</th>\n",
       "    </tr>\n",
       "  </thead>\n",
       "  <tbody>\n",
       "    <tr>\n",
       "      <th>0</th>\n",
       "      <td>0.030000</td>\n",
       "      <td>0.030000</td>\n",
       "      <td>0.030000</td>\n",
       "    </tr>\n",
       "    <tr>\n",
       "      <th>1</th>\n",
       "      <td>0.030510</td>\n",
       "      <td>0.026497</td>\n",
       "      <td>0.029182</td>\n",
       "    </tr>\n",
       "    <tr>\n",
       "      <th>2</th>\n",
       "      <td>0.030631</td>\n",
       "      <td>0.023718</td>\n",
       "      <td>0.026901</td>\n",
       "    </tr>\n",
       "    <tr>\n",
       "      <th>3</th>\n",
       "      <td>0.030321</td>\n",
       "      <td>0.021926</td>\n",
       "      <td>0.026436</td>\n",
       "    </tr>\n",
       "    <tr>\n",
       "      <th>4</th>\n",
       "      <td>0.029113</td>\n",
       "      <td>0.022325</td>\n",
       "      <td>0.028120</td>\n",
       "    </tr>\n",
       "  </tbody>\n",
       "</table>\n",
       "</div>"
      ],
      "text/plain": [
       "          1         2         3\n",
       "0  0.030000  0.030000  0.030000\n",
       "1  0.030510  0.026497  0.029182\n",
       "2  0.030631  0.023718  0.026901\n",
       "3  0.030321  0.021926  0.026436\n",
       "4  0.029113  0.022325  0.028120"
      ]
     },
     "execution_count": 8,
     "metadata": {},
     "output_type": "execute_result"
    }
   ],
   "source": [
    "rates[[1,2,3]].head()"
   ]
  },
  {
   "cell_type": "markdown",
   "metadata": {},
   "source": [
    "At t=0 interest rates are the same across all scenarios. However at the first step, we see that (i) the maturity decreases and (ii) interest rates change, and so the bond prices diverge:"
   ]
  },
  {
   "cell_type": "code",
   "execution_count": 9,
   "metadata": {},
   "outputs": [
    {
     "data": {
      "text/plain": [
       "1    108.888215\n",
       "2    110.823633\n",
       "3    109.524494\n",
       "dtype: float64"
      ]
     },
     "execution_count": 9,
     "metadata": {},
     "output_type": "execute_result"
    }
   ],
   "source": [
    "# rates.iloc[0][1,2,3] returns the rates for the first three scenarios simulated at time = 1\n",
    "erk.bond_price(5-1/12,100,.05,12, rates.iloc[1][[1,2,3]])"
   ]
  },
  {
   "cell_type": "markdown",
   "metadata": {},
   "source": [
    "Therefore, we can now generate the bond prices at time 0:"
   ]
  },
  {
   "cell_type": "code",
   "execution_count": 10,
   "metadata": {},
   "outputs": [
    {
     "data": {
      "text/plain": [
       "495    109.275393\n",
       "496    109.275393\n",
       "497    109.275393\n",
       "498    109.275393\n",
       "499    109.275393\n",
       "dtype: float64"
      ]
     },
     "execution_count": 10,
     "metadata": {},
     "output_type": "execute_result"
    }
   ],
   "source": [
    "#Returns the bond price for the 500 scenarios simulated at time = 0\n",
    "erk.bond_price(5, 100, .05, 12, rates.iloc[0]).tail()"
   ]
  },
  {
   "cell_type": "markdown",
   "metadata": {},
   "source": [
    "And at time t=1"
   ]
  },
  {
   "cell_type": "code",
   "execution_count": 11,
   "metadata": {},
   "outputs": [
    {
     "data": {
      "text/plain": [
       "495    109.135784\n",
       "496    108.119650\n",
       "497    109.944306\n",
       "498    109.432340\n",
       "499    107.749472\n",
       "dtype: float64"
      ]
     },
     "execution_count": 11,
     "metadata": {},
     "output_type": "execute_result"
    }
   ],
   "source": [
    "#Returns the bond price for the 500 scenarios simulated at time = 1\n",
    "erk.bond_price(5-1/12, 100, .05, 12, rates.iloc[1]).tail()"
   ]
  },
  {
   "cell_type": "markdown",
   "metadata": {},
   "source": [
    "### Simulating Prices of a Coupon-bearing Bond\n",
    "\n",
    "Now that we have the rates over time and the ability to compute bond prices from rates, we can stitch together the prices of a bond over time:\n",
    "\n",
    "```python\n",
    "def bond_price(maturity, principal=100, coupon_rate=0.03, coupons_per_year=12, discount_rate=0.03):\n",
    "    \"\"\"\n",
    "    Computes the price of a bond that pays regular coupons until maturity\n",
    "    at which time the principal and the final coupon is returned\n",
    "    This is not designed to be efficient, rather,\n",
    "    it is to illustrate the underlying principle behind bond pricing!\n",
    "    \"\"\"\n",
    "    cash_flows = bond_cash_flows(maturity, principal, coupon_rate, coupons_per_year)\n",
    "    return pv(cash_flows, discount_rate/coupons_per_year)\n",
    "```\n",
    "\n",
    "to\n",
    "\n",
    "```python\n",
    "def bond_price(maturity, principal=100, coupon_rate=0.03, coupons_per_year=12, discount_rate=0.03):\n",
    "    \"\"\"\n",
    "    Computes the price of a bond that pays regular coupons until maturity\n",
    "    at which time the principal and the final coupon is returned\n",
    "    This is not designed to be efficient, rather,\n",
    "    it is to illustrate the underlying principle behind bond pricing!\n",
    "    If discount_rate is a DataFrame, then this is assumed to be the rate on each coupon date\n",
    "    and the bond value is computed over time.\n",
    "    i.e. The index of the discount_rate DataFrame is assumed to be the coupon number\n",
    "    \"\"\"\n",
    "    if isinstance(discount_rate, pd.DataFrame):\n",
    "        pricing_dates = discount_rate.index\n",
    "        prices = pd.DataFrame(index=pricing_dates, columns=discount_rate.columns)\n",
    "        for t in pricing_dates:\n",
    "            prices.loc[t] = bond_price(maturity-t/coupons_per_year, principal, coupon_rate, coupons_per_year,\n",
    "                                      discount_rate.loc[t])\n",
    "        return prices\n",
    "    else: # base case ... single time period\n",
    "        if maturity <= 0: return principal+principal*coupon_rate/coupons_per_year\n",
    "        cash_flows = bond_cash_flows(maturity, principal, coupon_rate, coupons_per_year)\n",
    "        return pv(cash_flows, discount_rate/coupons_per_year)\n",
    "```\n"
   ]
  },
  {
   "cell_type": "code",
   "execution_count": 12,
   "metadata": {},
   "outputs": [
    {
     "data": {
      "text/plain": [
       "<matplotlib.axes._subplots.AxesSubplot at 0x216a7e28b08>"
      ]
     },
     "execution_count": 12,
     "metadata": {},
     "output_type": "execute_result"
    },
    {
     "data": {
      "image/png": "[encoded data removed]",
      "text/plain": [
       "<Figure size 864x432 with 1 Axes>"
      ]
     },
     "metadata": {
      "needs_background": "light"
     },
     "output_type": "display_data"
    }
   ],
   "source": [
    "#Simulation of bond prices over a 10 year lapse looking 4 scenarios\n",
    "erk.bond_price(10, 100, .05, 12, rates[[1,2,3,4]]).plot(legend=False, figsize=(12,6))"
   ]
  },
  {
   "cell_type": "code",
   "execution_count": 13,
   "metadata": {},
   "outputs": [
    {
     "data": {
      "text/html": [
       "<div>\n",
       "<style scoped>\n",
       "    .dataframe tbody tr th:only-of-type {\n",
       "        vertical-align: middle;\n",
       "    }\n",
       "\n",
       "    .dataframe tbody tr th {\n",
       "        vertical-align: top;\n",
       "    }\n",
       "\n",
       "    .dataframe thead th {\n",
       "        text-align: right;\n",
       "    }\n",
       "</style>\n",
       "<table border=\"1\" class=\"dataframe\">\n",
       "  <thead>\n",
       "    <tr style=\"text-align: right;\">\n",
       "      <th></th>\n",
       "      <th>1</th>\n",
       "      <th>2</th>\n",
       "      <th>3</th>\n",
       "      <th>4</th>\n",
       "    </tr>\n",
       "  </thead>\n",
       "  <tbody>\n",
       "    <tr>\n",
       "      <th>0</th>\n",
       "      <td>117.26</td>\n",
       "      <td>117.26</td>\n",
       "      <td>117.26</td>\n",
       "      <td>117.26</td>\n",
       "    </tr>\n",
       "    <tr>\n",
       "      <th>1</th>\n",
       "      <td>116.66</td>\n",
       "      <td>120.477</td>\n",
       "      <td>117.907</td>\n",
       "      <td>115.458</td>\n",
       "    </tr>\n",
       "    <tr>\n",
       "      <th>2</th>\n",
       "      <td>116.428</td>\n",
       "      <td>123.031</td>\n",
       "      <td>119.939</td>\n",
       "      <td>118.546</td>\n",
       "    </tr>\n",
       "    <tr>\n",
       "      <th>3</th>\n",
       "      <td>116.593</td>\n",
       "      <td>124.624</td>\n",
       "      <td>120.234</td>\n",
       "      <td>120.059</td>\n",
       "    </tr>\n",
       "    <tr>\n",
       "      <th>4</th>\n",
       "      <td>117.58</td>\n",
       "      <td>124.042</td>\n",
       "      <td>118.5</td>\n",
       "      <td>119.219</td>\n",
       "    </tr>\n",
       "  </tbody>\n",
       "</table>\n",
       "</div>"
      ],
      "text/plain": [
       "         1        2        3        4\n",
       "0   117.26   117.26   117.26   117.26\n",
       "1   116.66  120.477  117.907  115.458\n",
       "2  116.428  123.031  119.939  118.546\n",
       "3  116.593  124.624  120.234  120.059\n",
       "4   117.58  124.042    118.5  119.219"
      ]
     },
     "execution_count": 13,
     "metadata": {},
     "output_type": "execute_result"
    }
   ],
   "source": [
    "prices = erk.bond_price(10, 100, .05, 12, rates[[1,2,3,4]])\n",
    "prices.head()"
   ]
  },
  {
   "cell_type": "markdown",
   "metadata": {},
   "source": [
    "You might be tempted to think that since we have bond prices, we can generate returns as usual, by using `.pct_change().dropna()`."
   ]
  },
  {
   "cell_type": "code",
   "execution_count": 14,
   "metadata": {},
   "outputs": [
    {
     "data": {
      "text/plain": [
       "1   -0.015387\n",
       "2   -0.015387\n",
       "3   -0.015387\n",
       "4   -0.015387\n",
       "dtype: float64"
      ]
     },
     "execution_count": 14,
     "metadata": {},
     "output_type": "execute_result"
    }
   ],
   "source": [
    "# Bond returns = br\n",
    "br = prices.pct_change().dropna()\n",
    "erk.annualize_rets(br, 12)"
   ]
  },
  {
   "cell_type": "markdown",
   "metadata": {},
   "source": [
    "The reason a 3% interest rate regime is yielding a -1.5% return in these 4 scenarios is that this is the _price return_. Because the interest rate at the time we bought it was less than the coupon rate, we bought it at a premium, taking a capital loss when we sold it at the end. We need to compute the Total Return of a bond, which is the price return PLUS the dividend:\n",
    "\n",
    "```python\n",
    "Big assumption: The return is monthly\n",
    "def bond_total_return(monthly_prices, principal, coupon_rate, coupons_per_year):\n",
    "    \"\"\"\n",
    "    Computes the total return of a Bond based on monthly bond prices and coupon payments\n",
    "    Assumes that dividends (coupons) are paid out at the end of the period (e.g. end of 3 months for quarterly div)\n",
    "    and that dividends are reinvested in the bond\n",
    "    \"\"\"\n",
    "    coupons = pd.DataFrame(data = 0, index=monthly_prices.index, columns=monthly_prices.columns)\n",
    "    t_max = monthly_prices.index.max()\n",
    "    pay_date = np.linspace(12/coupons_per_year, t_max, int(coupons_per_year*t_max/12), dtype=int)\n",
    "    coupons.iloc[pay_date] = principal*coupon_rate/coupons_per_year\n",
    "    total_returns = (monthly_prices + coupons)/monthly_prices.shift()-1\n",
    "    return total_returns.dropna()\n",
    "```\n"
   ]
  },
  {
   "cell_type": "code",
   "execution_count": 15,
   "metadata": {},
   "outputs": [
    {
     "data": {
      "text/plain": [
       "1    0.028686\n",
       "2    0.029296\n",
       "3    0.029714\n",
       "4    0.029919\n",
       "dtype: float64"
      ]
     },
     "execution_count": 15,
     "metadata": {},
     "output_type": "execute_result"
    }
   ],
   "source": [
    "# Bond total return = btr\n",
    "p = erk.bond_price(10, 100, .05, 12, rates[[1,2,3,4]])\n",
    "btr = erk.bond_total_return(p, 100, .05, 12)\n",
    "erk.annualize_rets(btr, 12)"
   ]
  },
  {
   "cell_type": "markdown",
   "metadata": {},
   "source": [
    "Which gives us the approximately 3% return we expected, because that was the prevailing rate when we bought it. We also assumed that we reinvested the coupon in the bond and that is why we did not get the exact same return in each case, since we would observe prices based on the then-prevalent interest rates."
   ]
  },
  {
   "cell_type": "markdown",
   "metadata": {},
   "source": [
    "## Putting it all together: Monte Carlo Simulation of Asset Allocation\n",
    "\n",
    "Now that we have a way to generate prices from which to derive returns, we can experiment with allocating across the different Asset Classes.\n",
    "\n",
    "Let's start by examining the performance of a 70-30 allocation to Stocks and Bonds. Assume Stocks return an average of 7% per year with a 15% vol and use the CIR model to generate bond prices for a 10 year and 30 year bond that pays a 5% coupon. For simplicity, assume the coupon is paid monthly to avoid having to deal with partial coupons. Assume the Bond Portfolio consists of 60% in the 10 year bond and 40% in the 30 year bond."
   ]
  },
  {
   "cell_type": "code",
   "execution_count": 16,
   "metadata": {},
   "outputs": [
    {
     "data": {
      "text/html": [
       "<div>\n",
       "<style scoped>\n",
       "    .dataframe tbody tr th:only-of-type {\n",
       "        vertical-align: middle;\n",
       "    }\n",
       "\n",
       "    .dataframe tbody tr th {\n",
       "        vertical-align: top;\n",
       "    }\n",
       "\n",
       "    .dataframe thead th {\n",
       "        text-align: right;\n",
       "    }\n",
       "</style>\n",
       "<table border=\"1\" class=\"dataframe\">\n",
       "  <thead>\n",
       "    <tr style=\"text-align: right;\">\n",
       "      <th></th>\n",
       "      <th>1</th>\n",
       "      <th>2</th>\n",
       "      <th>3</th>\n",
       "    </tr>\n",
       "  </thead>\n",
       "  <tbody>\n",
       "    <tr>\n",
       "      <th>116</th>\n",
       "      <td>101.295</td>\n",
       "      <td>100.599</td>\n",
       "      <td>101.39</td>\n",
       "    </tr>\n",
       "    <tr>\n",
       "      <th>117</th>\n",
       "      <td>100.966</td>\n",
       "      <td>100.48</td>\n",
       "      <td>101.01</td>\n",
       "    </tr>\n",
       "    <tr>\n",
       "      <th>118</th>\n",
       "      <td>100.647</td>\n",
       "      <td>100.323</td>\n",
       "      <td>100.626</td>\n",
       "    </tr>\n",
       "    <tr>\n",
       "      <th>119</th>\n",
       "      <td>100.325</td>\n",
       "      <td>100.188</td>\n",
       "      <td>100.322</td>\n",
       "    </tr>\n",
       "    <tr>\n",
       "      <th>120</th>\n",
       "      <td>100.417</td>\n",
       "      <td>100.417</td>\n",
       "      <td>100.417</td>\n",
       "    </tr>\n",
       "  </tbody>\n",
       "</table>\n",
       "</div>"
      ],
      "text/plain": [
       "           1        2        3\n",
       "116  101.295  100.599   101.39\n",
       "117  100.966   100.48   101.01\n",
       "118  100.647  100.323  100.626\n",
       "119  100.325  100.188  100.322\n",
       "120  100.417  100.417  100.417"
      ]
     },
     "execution_count": 16,
     "metadata": {},
     "output_type": "execute_result"
    }
   ],
   "source": [
    "# Note: 500 scenarios for rates is not to much, is better to do it with at least 5000 but it will be slower\n",
    "price_10 = erk.bond_price(10, 100, .05, 12, rates) \n",
    "price_10[[1,2,3]].tail()"
   ]
  },
  {
   "cell_type": "code",
   "execution_count": 17,
   "metadata": {},
   "outputs": [
    {
     "data": {
      "text/html": [
       "<div>\n",
       "<style scoped>\n",
       "    .dataframe tbody tr th:only-of-type {\n",
       "        vertical-align: middle;\n",
       "    }\n",
       "\n",
       "    .dataframe tbody tr th {\n",
       "        vertical-align: top;\n",
       "    }\n",
       "\n",
       "    .dataframe thead th {\n",
       "        text-align: right;\n",
       "    }\n",
       "</style>\n",
       "<table border=\"1\" class=\"dataframe\">\n",
       "  <thead>\n",
       "    <tr style=\"text-align: right;\">\n",
       "      <th></th>\n",
       "      <th>1</th>\n",
       "      <th>2</th>\n",
       "      <th>3</th>\n",
       "    </tr>\n",
       "  </thead>\n",
       "  <tbody>\n",
       "    <tr>\n",
       "      <th>116</th>\n",
       "      <td>170.864</td>\n",
       "      <td>127.021</td>\n",
       "      <td>178.198</td>\n",
       "    </tr>\n",
       "    <tr>\n",
       "      <th>117</th>\n",
       "      <td>170.066</td>\n",
       "      <td>129.062</td>\n",
       "      <td>174.505</td>\n",
       "    </tr>\n",
       "    <tr>\n",
       "      <th>118</th>\n",
       "      <td>170.201</td>\n",
       "      <td>129.236</td>\n",
       "      <td>167.171</td>\n",
       "    </tr>\n",
       "    <tr>\n",
       "      <th>119</th>\n",
       "      <td>170.246</td>\n",
       "      <td>134.84</td>\n",
       "      <td>169.376</td>\n",
       "    </tr>\n",
       "    <tr>\n",
       "      <th>120</th>\n",
       "      <td>169.647</td>\n",
       "      <td>139.084</td>\n",
       "      <td>174.172</td>\n",
       "    </tr>\n",
       "  </tbody>\n",
       "</table>\n",
       "</div>"
      ],
      "text/plain": [
       "           1        2        3\n",
       "116  170.864  127.021  178.198\n",
       "117  170.066  129.062  174.505\n",
       "118  170.201  129.236  167.171\n",
       "119  170.246   134.84  169.376\n",
       "120  169.647  139.084  174.172"
      ]
     },
     "execution_count": 17,
     "metadata": {},
     "output_type": "execute_result"
    }
   ],
   "source": [
    "# 30 year bond\n",
    "price_30 = erk.bond_price(30, 100, .05, 12, rates)\n",
    "price_30[[1,2,3]].tail()"
   ]
  },
  {
   "cell_type": "code",
   "execution_count": 18,
   "metadata": {},
   "outputs": [],
   "source": [
    "rets_30 = erk.bond_total_return(price_30, 100, .05, 12)\n",
    "rets_10 = erk.bond_total_return(price_10, 100, .05, 12)"
   ]
  },
  {
   "cell_type": "markdown",
   "metadata": {},
   "source": [
    "Now we can assume monthly rebalancing and compute the monthly returns of the bond portfolio:"
   ]
  },
  {
   "cell_type": "code",
   "execution_count": 19,
   "metadata": {},
   "outputs": [
    {
     "data": {
      "text/html": [
       "<div>\n",
       "<style scoped>\n",
       "    .dataframe tbody tr th:only-of-type {\n",
       "        vertical-align: middle;\n",
       "    }\n",
       "\n",
       "    .dataframe tbody tr th {\n",
       "        vertical-align: top;\n",
       "    }\n",
       "\n",
       "    .dataframe thead th {\n",
       "        text-align: right;\n",
       "    }\n",
       "</style>\n",
       "<table border=\"1\" class=\"dataframe\">\n",
       "  <thead>\n",
       "    <tr style=\"text-align: right;\">\n",
       "      <th></th>\n",
       "      <th>Annualized Return</th>\n",
       "      <th>Annualized Vol</th>\n",
       "      <th>Skewness</th>\n",
       "      <th>Kurtosis</th>\n",
       "      <th>Cornish-Fisher VaR (5%)</th>\n",
       "      <th>Historic CVaR (5%)</th>\n",
       "      <th>Sharpe Ratio</th>\n",
       "      <th>Max Drawdown</th>\n",
       "    </tr>\n",
       "  </thead>\n",
       "  <tbody>\n",
       "    <tr>\n",
       "      <th>0</th>\n",
       "      <td>0.035774</td>\n",
       "      <td>0.003652</td>\n",
       "      <td>0.187052</td>\n",
       "      <td>3.011988</td>\n",
       "      <td>-0.001264</td>\n",
       "      <td>-0.000789</td>\n",
       "      <td>1.538782</td>\n",
       "      <td>0.0</td>\n",
       "    </tr>\n",
       "  </tbody>\n",
       "</table>\n",
       "</div>"
      ],
      "text/plain": [
       "   Annualized Return  Annualized Vol  Skewness  Kurtosis  \\\n",
       "0           0.035774        0.003652  0.187052  3.011988   \n",
       "\n",
       "   Cornish-Fisher VaR (5%)  Historic CVaR (5%)  Sharpe Ratio  Max Drawdown  \n",
       "0                -0.001264           -0.000789      1.538782           0.0  "
      ]
     },
     "execution_count": 19,
     "metadata": {},
     "output_type": "execute_result"
    }
   ],
   "source": [
    "# The assumption is that at the end of every month the propotions of the assets, logn term vs short term are re balanced to\n",
    "# mantain the 60/40 ratio\n",
    "rets_bonds = .6*rets_10 + .4*rets_30\n",
    "# This is the mean of the returns across all the 500 scenarios\n",
    "mean_rets_bonds = rets_bonds.mean(axis='columns')\n",
    "erk.summary_stats(pd.DataFrame(mean_rets_bonds))"
   ]
  },
  {
   "cell_type": "code",
   "execution_count": 20,
   "metadata": {},
   "outputs": [
    {
     "data": {
      "text/plain": [
       "(121, 500)"
      ]
     },
     "execution_count": 20,
     "metadata": {},
     "output_type": "execute_result"
    }
   ],
   "source": [
    "price_eq = erk.gbm(n_years=10,n_scenarios=500,mu=0.07, sigma=0.15)\n",
    "price_eq.shape"
   ]
  },
  {
   "cell_type": "code",
   "execution_count": 21,
   "metadata": {},
   "outputs": [
    {
     "data": {
      "text/plain": [
       "(120, 500)"
      ]
     },
     "execution_count": 21,
     "metadata": {},
     "output_type": "execute_result"
    }
   ],
   "source": [
    "rets_eq = price_eq.pct_change().dropna()\n",
    "rets_eq.shape"
   ]
  },
  {
   "cell_type": "code",
   "execution_count": 22,
   "metadata": {},
   "outputs": [
    {
     "data": {
      "text/plain": [
       "(120, 500)"
      ]
     },
     "execution_count": 22,
     "metadata": {},
     "output_type": "execute_result"
    }
   ],
   "source": [
    "rets_bonds.shape"
   ]
  },
  {
   "cell_type": "code",
   "execution_count": 23,
   "metadata": {},
   "outputs": [
    {
     "data": {
      "text/html": [
       "<div>\n",
       "<style scoped>\n",
       "    .dataframe tbody tr th:only-of-type {\n",
       "        vertical-align: middle;\n",
       "    }\n",
       "\n",
       "    .dataframe tbody tr th {\n",
       "        vertical-align: top;\n",
       "    }\n",
       "\n",
       "    .dataframe thead th {\n",
       "        text-align: right;\n",
       "    }\n",
       "</style>\n",
       "<table border=\"1\" class=\"dataframe\">\n",
       "  <thead>\n",
       "    <tr style=\"text-align: right;\">\n",
       "      <th></th>\n",
       "      <th>Annualized Return</th>\n",
       "      <th>Annualized Vol</th>\n",
       "      <th>Skewness</th>\n",
       "      <th>Kurtosis</th>\n",
       "      <th>Cornish-Fisher VaR (5%)</th>\n",
       "      <th>Historic CVaR (5%)</th>\n",
       "      <th>Sharpe Ratio</th>\n",
       "      <th>Max Drawdown</th>\n",
       "    </tr>\n",
       "  </thead>\n",
       "  <tbody>\n",
       "    <tr>\n",
       "      <th>0</th>\n",
       "      <td>0.059981</td>\n",
       "      <td>0.004488</td>\n",
       "      <td>-0.053587</td>\n",
       "      <td>2.71273</td>\n",
       "      <td>-0.002718</td>\n",
       "      <td>-0.002169</td>\n",
       "      <td>6.502558</td>\n",
       "      <td>0.0</td>\n",
       "    </tr>\n",
       "  </tbody>\n",
       "</table>\n",
       "</div>"
      ],
      "text/plain": [
       "   Annualized Return  Annualized Vol  Skewness  Kurtosis  \\\n",
       "0           0.059981        0.004488 -0.053587   2.71273   \n",
       "\n",
       "   Cornish-Fisher VaR (5%)  Historic CVaR (5%)  Sharpe Ratio  Max Drawdown  \n",
       "0                -0.002718           -0.002169      6.502558           0.0  "
      ]
     },
     "execution_count": 23,
     "metadata": {},
     "output_type": "execute_result"
    }
   ],
   "source": [
    "# Portfolio with 70/30 mix of equity/bonds\n",
    "rets = .70*rets_eq + 0.3*rets_bonds\n",
    "rets_mean = rets.mean(axis='columns')\n",
    "erk.summary_stats(pd.DataFrame(rets_mean))"
   ]
  }
 ],
 "metadata": {
  "kernelspec": {
   "display_name": "Python 3",
   "language": "python",
   "name": "python3"
  },
  "language_info": {
   "codemirror_mode": {
    "name": "ipython",
    "version": 3
   },
   "file_extension": ".py",
   "mimetype": "text/x-python",
   "name": "python",
   "nbconvert_exporter": "python",
   "pygments_lexer": "ipython3",
   "version": "3.7.6"
  }
 },
 "nbformat": 4,
 "nbformat_minor": 2
}
